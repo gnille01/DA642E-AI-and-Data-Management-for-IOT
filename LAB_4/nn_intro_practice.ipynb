{
 "cells": [
  {
   "cell_type": "markdown",
   "metadata": {},
   "source": [
    "# Training a Neural Network for CSV Dataset\n",
    "In this implementation, we read a CSV dataset via Google Drive, then build and train a neural network model , and finally test it on test dataset and calculate loss values. \n"
   ]
  },
  {
   "cell_type": "code",
   "execution_count": 36,
   "metadata": {},
   "outputs": [
    {
     "name": "stdout",
     "output_type": "stream",
     "text": [
      "Requirement already satisfied: torchmetrics in c:\\users\\ellin\\onedrive\\documents\\msc_iot_mau\\da642e-ai-and-data-management-for-iot\\.venv\\lib\\site-packages (1.6.1)\n",
      "Requirement already satisfied: numpy>1.20.0 in c:\\users\\ellin\\onedrive\\documents\\msc_iot_mau\\da642e-ai-and-data-management-for-iot\\.venv\\lib\\site-packages (from torchmetrics) (2.2.3)\n",
      "Requirement already satisfied: packaging>17.1 in c:\\users\\ellin\\onedrive\\documents\\msc_iot_mau\\da642e-ai-and-data-management-for-iot\\.venv\\lib\\site-packages (from torchmetrics) (24.2)\n",
      "Requirement already satisfied: torch>=2.0.0 in c:\\users\\ellin\\onedrive\\documents\\msc_iot_mau\\da642e-ai-and-data-management-for-iot\\.venv\\lib\\site-packages (from torchmetrics) (2.6.0)\n",
      "Requirement already satisfied: lightning-utilities>=0.8.0 in c:\\users\\ellin\\onedrive\\documents\\msc_iot_mau\\da642e-ai-and-data-management-for-iot\\.venv\\lib\\site-packages (from torchmetrics) (0.12.0)\n",
      "Requirement already satisfied: setuptools in c:\\users\\ellin\\onedrive\\documents\\msc_iot_mau\\da642e-ai-and-data-management-for-iot\\.venv\\lib\\site-packages (from lightning-utilities>=0.8.0->torchmetrics) (65.5.0)\n",
      "Requirement already satisfied: typing_extensions in c:\\users\\ellin\\onedrive\\documents\\msc_iot_mau\\da642e-ai-and-data-management-for-iot\\.venv\\lib\\site-packages (from lightning-utilities>=0.8.0->torchmetrics) (4.12.2)\n",
      "Requirement already satisfied: filelock in c:\\users\\ellin\\onedrive\\documents\\msc_iot_mau\\da642e-ai-and-data-management-for-iot\\.venv\\lib\\site-packages (from torch>=2.0.0->torchmetrics) (3.17.0)\n",
      "Requirement already satisfied: networkx in c:\\users\\ellin\\onedrive\\documents\\msc_iot_mau\\da642e-ai-and-data-management-for-iot\\.venv\\lib\\site-packages (from torch>=2.0.0->torchmetrics) (3.4.2)\n",
      "Requirement already satisfied: jinja2 in c:\\users\\ellin\\onedrive\\documents\\msc_iot_mau\\da642e-ai-and-data-management-for-iot\\.venv\\lib\\site-packages (from torch>=2.0.0->torchmetrics) (3.1.5)\n",
      "Requirement already satisfied: fsspec in c:\\users\\ellin\\onedrive\\documents\\msc_iot_mau\\da642e-ai-and-data-management-for-iot\\.venv\\lib\\site-packages (from torch>=2.0.0->torchmetrics) (2025.2.0)\n",
      "Requirement already satisfied: sympy==1.13.1 in c:\\users\\ellin\\onedrive\\documents\\msc_iot_mau\\da642e-ai-and-data-management-for-iot\\.venv\\lib\\site-packages (from torch>=2.0.0->torchmetrics) (1.13.1)\n",
      "Requirement already satisfied: mpmath<1.4,>=1.1.0 in c:\\users\\ellin\\onedrive\\documents\\msc_iot_mau\\da642e-ai-and-data-management-for-iot\\.venv\\lib\\site-packages (from sympy==1.13.1->torch>=2.0.0->torchmetrics) (1.3.0)\n",
      "Requirement already satisfied: MarkupSafe>=2.0 in c:\\users\\ellin\\onedrive\\documents\\msc_iot_mau\\da642e-ai-and-data-management-for-iot\\.venv\\lib\\site-packages (from jinja2->torch>=2.0.0->torchmetrics) (3.0.2)\n",
      "Note: you may need to restart the kernel to use updated packages.\n"
     ]
    }
   ],
   "source": [
    "%pip install torchmetrics"
   ]
  },
  {
   "cell_type": "code",
   "execution_count": 52,
   "metadata": {},
   "outputs": [],
   "source": [
    "# Import libraries\n",
    "\n",
    "import torch\n",
    "from torch import nn\n",
    "from torch import optim\n",
    "import torch.nn.functional as F\n",
    "\n",
    "import pandas as pd\n",
    "import matplotlib.pyplot as plt"
   ]
  },
  {
   "cell_type": "markdown",
   "metadata": {},
   "source": [
    "### Loading training and test datasets "
   ]
  },
  {
   "cell_type": "code",
   "execution_count": 38,
   "metadata": {},
   "outputs": [
    {
     "name": "stdout",
     "output_type": "stream",
     "text": [
      "Training data\n",
      "    Unnamed: 0         x         y\n",
      "0           0  0.771270  2.474538\n",
      "1           1  0.063558  1.192772\n",
      "2           2  0.863103  2.912784\n",
      "3           3  0.025419  1.078507\n",
      "4           4  0.731994  2.473164\n",
      "    Unnamed: 0         x         y\n",
      "75          75  0.828738  2.738827\n",
      "76          76  0.325330  1.805654\n",
      "77          77  0.939499  2.888963\n",
      "78          78  0.330898  1.542666\n",
      "79          79  0.366362  1.709265\n",
      "\n",
      "Test data: \n",
      "    Unnamed: 0         x         y\n",
      "0           0  0.304614  1.615251\n",
      "1           1  0.155995  1.347700\n",
      "2           2  0.662522  2.234106\n",
      "3           3  0.107891  1.298501\n",
      "4           4  0.909320  2.893834\n",
      "    Unnamed: 0         x         y\n",
      "15          15  0.514234  1.948241\n",
      "16          16  0.522733  2.037755\n",
      "17          17  0.046450  1.133306\n",
      "18          18  0.611853  2.253318\n",
      "19          19  0.427541  1.889197\n"
     ]
    }
   ],
   "source": [
    "# Load training train_data\n",
    "train_path = 'data/train (1).csv'\n",
    "train_data = pd.read_csv(train_path, delimiter = ',')\n",
    "print('Training data\\n', train_data.head())\n",
    "print(train_data.tail())\n",
    "\n",
    "x_train = torch.tensor(train_data['x'].values, dtype=torch.float32).unsqueeze(1)\n",
    "y_train = torch.tensor(train_data['y'].values, dtype=torch.float32)\n",
    "\n",
    "# Loading test train_data\n",
    "test_path = 'data/test.csv'\n",
    "test_data = pd.read_csv(test_path, delimiter = ',') \n",
    "print('\\nTest data: \\n',test_data.head())\n",
    "print(test_data.tail())\n",
    "\n",
    "x_test = torch.tensor(test_data['x'].values, dtype=torch.float32).unsqueeze(1)\n",
    "y_test = torch.tensor(test_data['y'].values, dtype=torch.float32)"
   ]
  },
  {
   "cell_type": "code",
   "execution_count": 39,
   "metadata": {},
   "outputs": [
    {
     "data": {
      "image/png": "[encoded data removed]",
      "text/plain": [
       "<Figure size 640x480 with 1 Axes>"
      ]
     },
     "metadata": {},
     "output_type": "display_data"
    }
   ],
   "source": [
    "# Plot datasets\n",
    "plt.scatter(x_train, y_train)\n",
    "plt.scatter(x_test, y_test)\n",
    "plt.grid(True)\n",
    "plt.show()"
   ]
  },
  {
   "cell_type": "markdown",
   "metadata": {},
   "source": [
    "### Build NN model"
   ]
  },
  {
   "cell_type": "code",
   "execution_count": 40,
   "metadata": {},
   "outputs": [
    {
     "data": {
      "text/plain": [
       "Linear(in_features=1, out_features=1, bias=True)"
      ]
     },
     "execution_count": 40,
     "metadata": {},
     "output_type": "execute_result"
    }
   ],
   "source": [
    "model = nn.Linear(1, 1)\n",
    "model"
   ]
  },
  {
   "cell_type": "markdown",
   "metadata": {},
   "source": [
    "### Define loss function"
   ]
  },
  {
   "cell_type": "code",
   "execution_count": 41,
   "metadata": {},
   "outputs": [],
   "source": [
    "loss_fn = nn.MSELoss()"
   ]
  },
  {
   "cell_type": "markdown",
   "metadata": {},
   "source": [
    "### Define optimization"
   ]
  },
  {
   "cell_type": "code",
   "execution_count": 42,
   "metadata": {},
   "outputs": [
    {
     "data": {
      "text/plain": [
       "<generator object Module.parameters at 0x000001C11B1E8E40>"
      ]
     },
     "execution_count": 42,
     "metadata": {},
     "output_type": "execute_result"
    }
   ],
   "source": [
    "model.parameters()"
   ]
  },
  {
   "cell_type": "code",
   "execution_count": 43,
   "metadata": {},
   "outputs": [
    {
     "name": "stdout",
     "output_type": "stream",
     "text": [
      "weight Parameter containing:\n",
      "tensor([[0.7814]], requires_grad=True)\n",
      "bias Parameter containing:\n",
      "tensor([-0.6194], requires_grad=True)\n"
     ]
    }
   ],
   "source": [
    "for name, param in model.named_parameters():\n",
    "    print(name, param)"
   ]
  },
  {
   "cell_type": "code",
   "execution_count": 44,
   "metadata": {},
   "outputs": [],
   "source": [
    "optimizer = optim.SGD(model.parameters(), lr=0.01)"
   ]
  },
  {
   "cell_type": "markdown",
   "metadata": {},
   "source": [
    "### Train loooooop! "
   ]
  },
  {
   "cell_type": "code",
   "execution_count": 45,
   "metadata": {},
   "outputs": [
    {
     "name": "stdout",
     "output_type": "stream",
     "text": [
      "Epochs 0:  4.99789571762085\n",
      "Epochs 1:  4.753518581390381\n",
      "Epochs 2:  4.521124839782715\n",
      "Epochs 3:  4.3001275062561035\n",
      "Epochs 4:  4.089966773986816\n",
      "Epochs 5:  3.8901114463806152\n",
      "Epochs 6:  3.700056552886963\n",
      "Epochs 7:  3.5193214416503906\n",
      "Epochs 8:  3.3474488258361816\n",
      "Epochs 9:  3.184004306793213\n",
      "Epochs 10:  3.028573989868164\n",
      "Epochs 11:  2.880765914916992\n",
      "Epochs 12:  2.7402052879333496\n",
      "Epochs 13:  2.606536865234375\n",
      "Epochs 14:  2.4794230461120605\n",
      "Epochs 15:  2.3585422039031982\n",
      "Epochs 16:  2.24358868598938\n",
      "Epochs 17:  2.1342711448669434\n",
      "Epochs 18:  2.0303142070770264\n",
      "Epochs 19:  1.9314546585083008\n",
      "Epochs 20:  1.8374420404434204\n",
      "Epochs 21:  1.7480392456054688\n",
      "Epochs 22:  1.6630198955535889\n",
      "Epochs 23:  1.5821690559387207\n",
      "Epochs 24:  1.5052825212478638\n",
      "Epochs 25:  1.432165503501892\n",
      "Epochs 26:  1.362633466720581\n",
      "Epochs 27:  1.2965104579925537\n",
      "Epochs 28:  1.2336291074752808\n",
      "Epochs 29:  1.1738307476043701\n",
      "Epochs 30:  1.1169641017913818\n",
      "Epochs 31:  1.0628852844238281\n",
      "Epochs 32:  1.0114576816558838\n",
      "Epochs 33:  0.962551474571228\n",
      "Epochs 34:  0.916042685508728\n",
      "Epochs 35:  0.8718138933181763\n",
      "Epochs 36:  0.8297531008720398\n",
      "Epochs 37:  0.7897542119026184\n",
      "Epochs 38:  0.7517160177230835\n",
      "Epochs 39:  0.7155424356460571\n",
      "Epochs 40:  0.6811420321464539\n",
      "Epochs 41:  0.6484277248382568\n",
      "Epochs 42:  0.6173168420791626\n",
      "Epochs 43:  0.5877308249473572\n",
      "Epochs 44:  0.5595949292182922\n",
      "Epochs 45:  0.5328378081321716\n",
      "Epochs 46:  0.5073921084403992\n",
      "Epochs 47:  0.4831934869289398\n",
      "Epochs 48:  0.46018069982528687\n",
      "Epochs 49:  0.4382956922054291\n",
      "Epochs 50:  0.41748303174972534\n",
      "Epochs 51:  0.3976902365684509\n",
      "Epochs 52:  0.3788672387599945\n",
      "Epochs 53:  0.3609665036201477\n",
      "Epochs 54:  0.343942791223526\n",
      "Epochs 55:  0.3277529776096344\n",
      "Epochs 56:  0.3123563528060913\n",
      "Epochs 57:  0.2977140247821808\n",
      "Epochs 58:  0.28378885984420776\n",
      "Epochs 59:  0.2705457806587219\n",
      "Epochs 60:  0.2579513192176819\n",
      "Epochs 61:  0.24597373604774475\n",
      "Epochs 62:  0.23458263278007507\n",
      "Epochs 63:  0.22374939918518066\n",
      "Epochs 64:  0.21344654262065887\n",
      "Epochs 65:  0.2036481350660324\n",
      "Epochs 66:  0.19432945549488068\n",
      "Epochs 67:  0.1854669153690338\n",
      "Epochs 68:  0.17703822255134583\n",
      "Epochs 69:  0.16902203857898712\n",
      "Epochs 70:  0.16139814257621765\n",
      "Epochs 71:  0.15414738655090332\n",
      "Epochs 72:  0.14725133776664734\n",
      "Epochs 73:  0.14069269597530365\n",
      "Epochs 74:  0.1344548761844635\n",
      "Epochs 75:  0.12852215766906738\n",
      "Epochs 76:  0.12287962436676025\n",
      "Epochs 77:  0.1175130233168602\n",
      "Epochs 78:  0.11240880191326141\n",
      "Epochs 79:  0.10755409300327301\n",
      "Epochs 80:  0.10293666273355484\n",
      "Epochs 81:  0.0985449030995369\n",
      "Epochs 82:  0.09436770528554916\n",
      "Epochs 83:  0.09039460122585297\n",
      "Epochs 84:  0.08661551028490067\n",
      "Epochs 85:  0.08302098512649536\n",
      "Epochs 86:  0.07960198819637299\n",
      "Epochs 87:  0.07634985446929932\n",
      "Epochs 88:  0.07325645536184311\n",
      "Epochs 89:  0.07031398266553879\n",
      "Epochs 90:  0.0675150528550148\n",
      "Epochs 91:  0.06485258787870407\n",
      "Epochs 92:  0.06231994554400444\n",
      "Epochs 93:  0.05991075187921524\n",
      "Epochs 94:  0.057618964463472366\n",
      "Epochs 95:  0.055438775569200516\n",
      "Epochs 96:  0.053364742547273636\n",
      "Epochs 97:  0.05139170214533806\n",
      "Epochs 98:  0.04951464384794235\n",
      "Epochs 99:  0.04772890359163284\n",
      "Epochs 100:  0.04603001847863197\n",
      "Epochs 101:  0.044413670897483826\n",
      "Epochs 102:  0.042875878512859344\n",
      "Epochs 103:  0.04141271486878395\n",
      "Epochs 104:  0.040020592510700226\n",
      "Epochs 105:  0.03869600221514702\n",
      "Epochs 106:  0.037435658276081085\n",
      "Epochs 107:  0.03623635694384575\n",
      "Epochs 108:  0.03509513661265373\n",
      "Epochs 109:  0.034009166061878204\n",
      "Epochs 110:  0.032975710928440094\n",
      "Epochs 111:  0.03199222311377525\n",
      "Epochs 112:  0.031056251376867294\n",
      "Epochs 113:  0.030165478587150574\n",
      "Epochs 114:  0.029317665845155716\n",
      "Epochs 115:  0.02851070836186409\n",
      "Epochs 116:  0.027742598205804825\n",
      "Epochs 117:  0.027011459693312645\n",
      "Epochs 118:  0.02631545066833496\n",
      "Epochs 119:  0.025652891024947166\n",
      "Epochs 120:  0.02502211555838585\n",
      "Epochs 121:  0.024421565234661102\n",
      "Epochs 122:  0.02384975738823414\n",
      "Epochs 123:  0.023305287584662437\n",
      "Epochs 124:  0.022786850109696388\n",
      "Epochs 125:  0.02229313738644123\n",
      "Epochs 126:  0.021822946146130562\n",
      "Epochs 127:  0.021375123411417007\n"
     ]
    },
    {
     "name": "stdout",
     "output_type": "stream",
     "text": [
      "Epochs 128:  0.020948562771081924\n",
      "Epochs 129:  0.020542247220873833\n",
      "Epochs 130:  0.020155174657702446\n",
      "Epochs 131:  0.019786404445767403\n",
      "Epochs 132:  0.019435018301010132\n",
      "Epochs 133:  0.019100211560726166\n",
      "Epochs 134:  0.018781136721372604\n",
      "Epochs 135:  0.018477043136954308\n",
      "Epochs 136:  0.018187180161476135\n",
      "Epochs 137:  0.017910869792103767\n",
      "Epochs 138:  0.017647437751293182\n",
      "Epochs 139:  0.017396269366145134\n",
      "Epochs 140:  0.01715674437582493\n",
      "Epochs 141:  0.01692829839885235\n",
      "Epochs 142:  0.016710404306650162\n",
      "Epochs 143:  0.016502538695931435\n",
      "Epochs 144:  0.016304222866892815\n",
      "Epochs 145:  0.016114966943860054\n",
      "Epochs 146:  0.015934348106384277\n",
      "Epochs 147:  0.015761934220790863\n",
      "Epochs 148:  0.015597322955727577\n",
      "Epochs 149:  0.015440146438777447\n",
      "Epochs 150:  0.015290036797523499\n",
      "Epochs 151:  0.0151466503739357\n",
      "Epochs 152:  0.015009649097919464\n",
      "Epochs 153:  0.014878727495670319\n",
      "Epochs 154:  0.014753597788512707\n",
      "Epochs 155:  0.01463396567851305\n",
      "Epochs 156:  0.014519566670060158\n",
      "Epochs 157:  0.014410155825316906\n",
      "Epochs 158:  0.014305466786026955\n",
      "Epochs 159:  0.014205291867256165\n",
      "Epochs 160:  0.014109405688941479\n",
      "Epochs 161:  0.014017602428793907\n",
      "Epochs 162:  0.013929682783782482\n",
      "Epochs 163:  0.013845455832779408\n",
      "Epochs 164:  0.013764734379947186\n",
      "Epochs 165:  0.013687362894415855\n",
      "Epochs 166:  0.013613167218863964\n",
      "Epochs 167:  0.01354200579226017\n",
      "Epochs 168:  0.013473722152411938\n",
      "Epochs 169:  0.013408173806965351\n",
      "Epochs 170:  0.01334524154663086\n",
      "Epochs 171:  0.01328478753566742\n",
      "Epochs 172:  0.013226700015366077\n",
      "Epochs 173:  0.01317085325717926\n",
      "Epochs 174:  0.013117147609591484\n",
      "Epochs 175:  0.013065485283732414\n",
      "Epochs 176:  0.01301575917750597\n",
      "Epochs 177:  0.012967875227332115\n",
      "Epochs 178:  0.012921752408146858\n",
      "Epochs 179:  0.012877294793725014\n",
      "Epochs 180:  0.012834432534873486\n",
      "Epochs 181:  0.012793092057108879\n",
      "Epochs 182:  0.012753188610076904\n",
      "Epochs 183:  0.012714661657810211\n",
      "Epochs 184:  0.012677443213760853\n",
      "Epochs 185:  0.01264146901667118\n",
      "Epochs 186:  0.012606682255864143\n",
      "Epochs 187:  0.012573027983307838\n",
      "Epochs 188:  0.012540447525680065\n",
      "Epochs 189:  0.012508893385529518\n",
      "Epochs 190:  0.012478316202759743\n",
      "Epochs 191:  0.012448673136532307\n",
      "Epochs 192:  0.01241991389542818\n",
      "Epochs 193:  0.012392002157866955\n",
      "Epochs 194:  0.012364893220365047\n",
      "Epochs 195:  0.012338556349277496\n",
      "Epochs 196:  0.012312942184507847\n",
      "Epochs 197:  0.012288030236959457\n",
      "Epochs 198:  0.012263786979019642\n",
      "Epochs 199:  0.012240174226462841\n",
      "Epochs 200:  0.012217165902256966\n",
      "Epochs 201:  0.012194737792015076\n",
      "Epochs 202:  0.012172858230769634\n",
      "Epochs 203:  0.012151500210165977\n",
      "Epochs 204:  0.012130643241107464\n",
      "Epochs 205:  0.012110264971852303\n",
      "Epochs 206:  0.012090342119336128\n",
      "Epochs 207:  0.012070858851075172\n",
      "Epochs 208:  0.012051788158714771\n",
      "Epochs 209:  0.012033112347126007\n",
      "Epochs 210:  0.01201481744647026\n",
      "Epochs 211:  0.011996882036328316\n",
      "Epochs 212:  0.011979293078184128\n",
      "Epochs 213:  0.011962033808231354\n",
      "Epochs 214:  0.011945091187953949\n",
      "Epochs 215:  0.01192844845354557\n",
      "Epochs 216:  0.01191210187971592\n",
      "Epochs 217:  0.011896025389432907\n",
      "Epochs 218:  0.01188021432608366\n",
      "Epochs 219:  0.011864655651152134\n",
      "Epochs 220:  0.01184934377670288\n",
      "Epochs 221:  0.011834257282316685\n",
      "Epochs 222:  0.01181939709931612\n",
      "Epochs 223:  0.011804749257862568\n",
      "Epochs 224:  0.011790300719439983\n",
      "Epochs 225:  0.011776053346693516\n",
      "Epochs 226:  0.011761985719203949\n",
      "Epochs 227:  0.011748101562261581\n",
      "Epochs 228:  0.011734388768672943\n",
      "Epochs 229:  0.011720847338438034\n",
      "Epochs 230:  0.011707461439073086\n",
      "Epochs 231:  0.011694222688674927\n",
      "Epochs 232:  0.01168113760650158\n",
      "Epochs 233:  0.011668192222714424\n",
      "Epochs 234:  0.011655379086732864\n",
      "Epochs 235:  0.0116426981985569\n",
      "Epochs 236:  0.011630144901573658\n",
      "Epochs 237:  0.011617709882557392\n",
      "Epochs 238:  0.011605395004153252\n",
      "Epochs 239:  0.01159319095313549\n",
      "Epochs 240:  0.011581091210246086\n",
      "Epochs 241:  0.011569099500775337\n",
      "Epochs 242:  0.01155720092356205\n",
      "Epochs 243:  0.011545412242412567\n",
      "Epochs 244:  0.0115337073802948\n",
      "Epochs 245:  0.01152210496366024\n",
      "Epochs 246:  0.011510577984154224\n",
      "Epochs 247:  0.011499136686325073\n",
      "Epochs 248:  0.011487780138850212\n",
      "Epochs 249:  0.011476503685116768\n",
      "Epochs 250:  0.01146530732512474\n",
      "Epochs 251:  0.011454181745648384\n",
      "Epochs 252:  0.011443130671977997\n",
      "Epochs 253:  0.011432154104113579\n",
      "Epochs 254:  0.011421245522797108\n",
      "Epochs 255:  0.011410397477447987\n",
      "Epochs 256:  0.011399619281291962\n",
      "Epochs 257:  0.011388899758458138\n",
      "Epochs 258:  0.011378241702914238\n",
      "Epochs 259:  0.011367645114660263\n",
      "Epochs 260:  0.011357106268405914\n",
      "Epochs 261:  0.011346625164151192\n",
      "Epochs 262:  0.01133620087057352\n",
      "Epochs 263:  0.011325824074447155\n",
      "Epochs 264:  0.011315504088997841\n",
      "Epochs 265:  0.01130523718893528\n",
      "Epochs 266:  0.011295020580291748\n",
      "Epochs 267:  0.011284848675131798\n",
      "Epochs 268:  0.011274727992713451\n",
      "Epochs 269:  0.011264650151133537\n",
      "Epochs 270:  0.011254626326262951\n",
      "Epochs 271:  0.011244642548263073\n",
      "Epochs 272:  0.011234705336391926\n",
      "Epochs 273:  0.011224811896681786\n",
      "Epochs 274:  0.01121495570987463\n",
      "Epochs 275:  0.011205149814486504\n",
      "Epochs 276:  0.011195382103323936\n",
      "Epochs 277:  0.011185658164322376\n",
      "Epochs 278:  0.011175966821610928\n",
      "Epochs 279:  0.011166319251060486\n",
      "Epochs 280:  0.011156708002090454\n",
      "Epochs 281:  0.011147139593958855\n",
      "Epochs 282:  0.011137602850794792\n",
      "Epochs 283:  0.011128110811114311\n",
      "Epochs 284:  0.011118647642433643\n",
      "Epochs 285:  0.011109222657978535\n",
      "Epochs 286:  0.011099828407168388\n",
      "Epochs 287:  0.011090475134551525\n",
      "Epochs 288:  0.011081154458224773\n",
      "Epochs 289:  0.01107186358422041\n",
      "Epochs 290:  0.011062616482377052\n",
      "Epochs 291:  0.011053396388888359\n",
      "Epochs 292:  0.011044209823012352\n",
      "Epochs 293:  0.011035057716071606\n",
      "Epochs 294:  0.011025935411453247\n",
      "Epochs 295:  0.01101684756577015\n",
      "Epochs 296:  0.011007793247699738\n",
      "Epochs 297:  0.010998768731951714\n",
      "Epochs 298:  0.010989777743816376\n",
      "Epochs 299:  0.010980812832713127\n",
      "Epochs 300:  0.01097188238054514\n",
      "Epochs 301:  0.010962976142764091\n",
      "Epochs 302:  0.010954109951853752\n",
      "Epochs 303:  0.010945266112685204\n",
      "Epochs 304:  0.010936455801129341\n",
      "Epochs 305:  0.010927674360573292\n",
      "Epochs 306:  0.010918914340436459\n",
      "Epochs 307:  0.01091019343584776\n",
      "Epochs 308:  0.010901493951678276\n",
      "Epochs 309:  0.010892831720411777\n",
      "Epochs 310:  0.010884190909564495\n",
      "Epochs 311:  0.010875578038394451\n",
      "Epochs 312:  0.010866994969546795\n",
      "Epochs 313:  0.010858437046408653\n",
      "Epochs 314:  0.010849909856915474\n",
      "Epochs 315:  0.010841409675776958\n",
      "Epochs 316:  0.010832933709025383\n",
      "Epochs 317:  0.010824484750628471\n",
      "Epochs 318:  0.01081607025116682\n",
      "Epochs 319:  0.010807675309479237\n",
      "Epochs 320:  0.010799311101436615\n",
      "Epochs 321:  0.010790972039103508\n",
      "Epochs 322:  0.010782657191157341\n",
      "Epochs 323:  0.010774369351565838\n",
      "Epochs 324:  0.010766108520328999\n",
      "Epochs 325:  0.010757872834801674\n",
      "Epochs 326:  0.010749662294983864\n",
      "Epochs 327:  0.010741476900875568\n",
      "Epochs 328:  0.010733319446444511\n",
      "Epochs 329:  0.010725179687142372\n",
      "Epochs 330:  0.010717075318098068\n",
      "Epochs 331:  0.010708993300795555\n",
      "Epochs 332:  0.010700937360525131\n",
      "Epochs 333:  0.010692906565964222\n",
      "Epochs 334:  0.010684899054467678\n",
      "Epochs 335:  0.010676915757358074\n",
      "Epochs 336:  0.010668954811990261\n",
      "Epochs 337:  0.010661022737622261\n",
      "Epochs 338:  0.010653113946318626\n",
      "Epochs 339:  0.010645230300724506\n",
      "Epochs 340:  0.010637367144227028\n",
      "Epochs 341:  0.010629534721374512\n",
      "Epochs 342:  0.010621722787618637\n",
      "Epochs 343:  0.010613933205604553\n",
      "Epochs 344:  0.010606166906654835\n",
      "Epochs 345:  0.010598431341350079\n",
      "Epochs 346:  0.010590711608529091\n",
      "Epochs 347:  0.010583022609353065\n",
      "Epochs 348:  0.010575352236628532\n",
      "Epochs 349:  0.01056770421564579\n",
      "Epochs 350:  0.010560084134340286\n",
      "Epochs 351:  0.010552482679486275\n",
      "Epochs 352:  0.010544907301664352\n",
      "Epochs 353:  0.010537352412939072\n",
      "Epochs 354:  0.01052982546389103\n",
      "Epochs 355:  0.01052231527864933\n",
      "Epochs 356:  0.010514834895730019\n",
      "Epochs 357:  0.0105073731392622\n",
      "Epochs 358:  0.010499929077923298\n",
      "Epochs 359:  0.010492512956261635\n",
      "Epochs 360:  0.010485120117664337\n",
      "Epochs 361:  0.010477746836841106\n",
      "Epochs 362:  0.010470399633049965\n",
      "Epochs 363:  0.01046307384967804\n",
      "Epochs 364:  0.010455767624080181\n",
      "Epochs 365:  0.010448487475514412\n",
      "Epochs 366:  0.01044122688472271\n",
      "Epochs 367:  0.010433992370963097\n",
      "Epochs 368:  0.010426776483654976\n",
      "Epochs 369:  0.010419581085443497\n",
      "Epochs 370:  0.010412407107651234\n",
      "Epochs 371:  0.010405255481600761\n",
      "Epochs 372:  0.010398129932582378\n",
      "Epochs 373:  0.010391021147370338\n",
      "Epochs 374:  0.01038393285125494\n",
      "Epochs 375:  0.01037687249481678\n",
      "Epochs 376:  0.010369831696152687\n",
      "Epochs 377:  0.010362807661294937\n",
      "Epochs 378:  0.010355805978178978\n",
      "Epochs 379:  0.010348831303417683\n",
      "Epochs 380:  0.010341869667172432\n",
      "Epochs 381:  0.01033493597060442\n",
      "Epochs 382:  0.010328021831810474\n",
      "Epochs 383:  0.010321124456822872\n",
      "Epochs 384:  0.01031425315886736\n",
      "Epochs 385:  0.010307399556040764\n",
      "Epochs 386:  0.010300565510988235\n",
      "Epochs 387:  0.010293751955032349\n",
      "Epochs 388:  0.010286964476108551\n",
      "Epochs 389:  0.010280194692313671\n",
      "Epochs 390:  0.010273446328938007\n",
      "Epochs 391:  0.010266715660691261\n",
      "Epochs 392:  0.010260003618896008\n",
      "Epochs 393:  0.010253315791487694\n",
      "Epochs 394:  0.010246651247143745\n",
      "Epochs 395:  0.010240000672638416\n",
      "Epochs 396:  0.010233373381197453\n",
      "Epochs 397:  0.010226761922240257\n",
      "Epochs 398:  0.010220177471637726\n",
      "Epochs 399:  0.010213606059551239\n",
      "Epochs 400:  0.01020705234259367\n",
      "Epochs 401:  0.010200525633990765\n",
      "Epochs 402:  0.010194017551839352\n",
      "Epochs 403:  0.010187528096139431\n",
      "Epochs 404:  0.010181058198213577\n",
      "Epochs 405:  0.01017460972070694\n",
      "Epochs 406:  0.010168179869651794\n",
      "Epochs 407:  0.010161767713725567\n",
      "Epochs 408:  0.010155376978218555\n",
      "Epochs 409:  0.010149003937840462\n",
      "Epochs 410:  0.01014265138655901\n",
      "Epochs 411:  0.0101363155990839\n",
      "Epochs 412:  0.010129999369382858\n",
      "Epochs 413:  0.010123704560101032\n",
      "Epochs 414:  0.01011742651462555\n",
      "Epochs 415:  0.010111169889569283\n",
      "Epochs 416:  0.010104929096996784\n",
      "Epochs 417:  0.010098706930875778\n",
      "Epochs 418:  0.010092509910464287\n",
      "Epochs 419:  0.010086324997246265\n",
      "Epochs 420:  0.010080166161060333\n",
      "Epochs 421:  0.010074017569422722\n",
      "Epochs 422:  0.010067890398204327\n",
      "Epochs 423:  0.0100617790594697\n",
      "Epochs 424:  0.01005568914115429\n",
      "Epochs 425:  0.010049617849290371\n",
      "Epochs 426:  0.010043565183877945\n",
      "Epochs 427:  0.010037528350949287\n",
      "Epochs 428:  0.01003151573240757\n",
      "Epochs 429:  0.010025515221059322\n",
      "Epochs 430:  0.010019537061452866\n",
      "Epochs 431:  0.010013577528297901\n",
      "Epochs 432:  0.010007629171013832\n",
      "Epochs 433:  0.010001701302826405\n",
      "Epochs 434:  0.00999579019844532\n",
      "Epochs 435:  0.00998990423977375\n",
      "Epochs 436:  0.009984028525650501\n",
      "Epochs 437:  0.009978177957236767\n",
      "Epochs 438:  0.009972336702048779\n",
      "Epochs 439:  0.009966516867280006\n",
      "Epochs 440:  0.009960716590285301\n",
      "Epochs 441:  0.00995493121445179\n",
      "Epochs 442:  0.009949163533747196\n",
      "Epochs 443:  0.009943416342139244\n",
      "Epochs 444:  0.009937682189047337\n",
      "Epochs 445:  0.009931964799761772\n",
      "Epochs 446:  0.009926268830895424\n",
      "Epochs 447:  0.00992058590054512\n",
      "Epochs 448:  0.009914921596646309\n",
      "Epochs 449:  0.009909276850521564\n",
      "Epochs 450:  0.00990364607423544\n",
      "Epochs 451:  0.009898034855723381\n",
      "Epochs 452:  0.009892436675727367\n",
      "Epochs 453:  0.00988685991615057\n",
      "Epochs 454:  0.009881298057734966\n",
      "Epochs 455:  0.009875752031803131\n",
      "Epochs 456:  0.009870229288935661\n",
      "Epochs 457:  0.009864714927971363\n",
      "Epochs 458:  0.009859217330813408\n",
      "Epochs 459:  0.009853738360106945\n",
      "Epochs 460:  0.009848279878497124\n",
      "Epochs 461:  0.009842830710113049\n",
      "Epochs 462:  0.009837405756115913\n",
      "Epochs 463:  0.00983198918402195\n",
      "Epochs 464:  0.009826595894992352\n",
      "Epochs 465:  0.009821214713156223\n",
      "Epochs 466:  0.009815850295126438\n",
      "Epochs 467:  0.009810504503548145\n",
      "Epochs 468:  0.009805170819163322\n",
      "Epochs 469:  0.009799857623875141\n",
      "Epochs 470:  0.00979455467313528\n",
      "Epochs 471:  0.009789275005459785\n",
      "Epochs 472:  0.009784003719687462\n",
      "Epochs 473:  0.009778754785656929\n",
      "Epochs 474:  0.009773517027497292\n",
      "Epochs 475:  0.009768299758434296\n",
      "Epochs 476:  0.00976309459656477\n",
      "Epochs 477:  0.009757908061146736\n",
      "Epochs 478:  0.009752734564244747\n",
      "Epochs 479:  0.00974757969379425\n",
      "Epochs 480:  0.009742436930537224\n",
      "Epochs 481:  0.009737314656376839\n",
      "Epochs 482:  0.009732207283377647\n",
      "Epochs 483:  0.009727109223604202\n",
      "Epochs 484:  0.0097220279276371\n",
      "Epochs 485:  0.009716963395476341\n",
      "Epochs 486:  0.009711913764476776\n",
      "Epochs 487:  0.009706880897283554\n",
      "Epochs 488:  0.009701861068606377\n",
      "Epochs 489:  0.00969686359167099\n",
      "Epochs 490:  0.009691871702671051\n",
      "Epochs 491:  0.009686902165412903\n",
      "Epochs 492:  0.009681938216090202\n",
      "Epochs 493:  0.009676996618509293\n",
      "Epochs 494:  0.009672069922089577\n",
      "Epochs 495:  0.009667154401540756\n",
      "Epochs 496:  0.00966225378215313\n",
      "Epochs 497:  0.009657373651862144\n",
      "Epochs 498:  0.009652504697442055\n",
      "Epochs 499:  0.009647649712860584\n"
     ]
    }
   ],
   "source": [
    "N = 500 # number of epochs\n",
    "loss_hist= []\n",
    "for i in range(N):\n",
    "    y_pred = model(x_train)\n",
    "    loss = loss_fn(y_pred.squeeze(), y_train)\n",
    "    loss.backward()\n",
    "    optimizer.step()\n",
    "    optimizer.zero_grad()\n",
    "    loss_hist.append(loss.item())\n",
    "    print(f'Epochs {i}: ',loss.item())"
   ]
  },
  {
   "cell_type": "markdown",
   "metadata": {},
   "source": [
    "### Vizualizzzze"
   ]
  },
  {
   "cell_type": "code",
   "execution_count": 46,
   "metadata": {},
   "outputs": [],
   "source": [
    "x_viz = torch.linspace(x_train.min(), x_train.max(), 100).unsqueeze(1)\n",
    "y_viz = model(x_viz)"
   ]
  },
  {
   "cell_type": "code",
   "execution_count": 48,
   "metadata": {},
   "outputs": [
    {
     "data": {
      "image/png": "[encoded data removed]",
      "text/plain": [
       "<Figure size 640x480 with 1 Axes>"
      ]
     },
     "metadata": {},
     "output_type": "display_data"
    }
   ],
   "source": [
    "plt.scatter(x_train, y_train)\n",
    "plt.plot(x_viz.detach(),y_viz.detach(), color='red')\n",
    "plt.grid(True)\n",
    "plt.show()"
   ]
  },
  {
   "cell_type": "markdown",
   "metadata": {},
   "source": [
    "#### Learning curve"
   ]
  },
  {
   "cell_type": "code",
   "execution_count": 50,
   "metadata": {},
   "outputs": [
    {
     "data": {
      "image/png": "[encoded data removed]",
      "text/plain": [
       "<Figure size 640x480 with 1 Axes>"
      ]
     },
     "metadata": {},
     "output_type": "display_data"
    }
   ],
   "source": [
    "plt.plot(range(N), loss_hist)\n",
    "plt.xlabel('Epochs')\n",
    "plt.ylabel('Loss')\n",
    "plt.grid(True)\n",
    "plt.show()"
   ]
  },
  {
   "cell_type": "markdown",
   "metadata": {},
   "source": [
    "### Test"
   ]
  },
  {
   "cell_type": "code",
   "execution_count": 53,
   "metadata": {},
   "outputs": [
    {
     "data": {
      "text/plain": [
       "tensor(0.0767, grad_fn=<MeanBackward0>)"
      ]
     },
     "execution_count": 53,
     "metadata": {},
     "output_type": "execute_result"
    }
   ],
   "source": [
    "y_pred = model(x_test)\n",
    "F.l1_loss(y_pred.squeeze(), y_test)\n"
   ]
  },
  {
   "cell_type": "code",
   "execution_count": null,
   "metadata": {},
   "outputs": [],
   "source": []
  }
 ],
 "metadata": {
  "kernelspec": {
   "display_name": ".venv",
   "language": "python",
   "name": "python3"
  },
  "language_info": {
   "codemirror_mode": {
    "name": "ipython",
    "version": 3
   },
   "file_extension": ".py",
   "mimetype": "text/x-python",
   "name": "python",
   "nbconvert_exporter": "python",
   "pygments_lexer": "ipython3",
   "version": "3.11.4"
  }
 },
 "nbformat": 4,
 "nbformat_minor": 2
}
