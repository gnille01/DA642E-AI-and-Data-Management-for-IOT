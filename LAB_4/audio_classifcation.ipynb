{
 "cells": [
  {
   "cell_type": "markdown",
   "metadata": {},
   "source": [
    "# Assignment 1\n",
    "## Training neural network\n",
    "### classify audio as 'apple', 'orange', 'cherry', 'unknown'"
   ]
  },
  {
   "cell_type": "code",
   "execution_count": 22,
   "metadata": {},
   "outputs": [],
   "source": [
    "# libraries\n",
    "import os\n",
    "import json\n",
    "import torch\n",
    "import torch.nn as nn\n",
    "import torch.nn.functional as F\n",
    "import torch.optim as optim\n",
    "import torchaudio.transforms as T\n",
    "import librosa\n",
    "import numpy as np\n",
    "import soundfile as sf\n",
    "from torch.utils.data import Dataset, DataLoader, random_split\n",
    "import pandas as pd"
   ]
  },
  {
   "cell_type": "markdown",
   "metadata": {},
   "source": [
    "### UTILS"
   ]
  },
  {
   "cell_type": "code",
   "execution_count": 23,
   "metadata": {},
   "outputs": [],
   "source": [
    "class AudioDataset(Dataset):\n",
    "    def __init__(self, data_dir, label_file, transform=None):\n",
    "        self.data_dir = data_dir\n",
    "        self.transform = transform\n",
    "        \n",
    "        # Define label mapping\n",
    "        self.label_map = {'apple': 0, 'orange': 1, 'cherry': 2, 'unknown': 3}\n",
    "        \n",
    "        with open(label_file, 'r') as f:\n",
    "            data = json.load(f)\n",
    "        \n",
    "        self.file_names = [item['path'] for item in data]\n",
    "        self.labels = [item['label'] for item in data]\n",
    "    \n",
    "    def __len__(self):\n",
    "        return len(self.file_names)\n",
    "    \n",
    "    def __getitem__(self, idx):\n",
    "        file_path = os.path.join(self.data_dir, self.file_names[idx])\n",
    "        label = self.labels[idx]\n",
    "        \n",
    "        # Convert string label to integer label\n",
    "        label = self.label_map[label]\n",
    "        \n",
    "        waveform, sample_rate = sf.read(file_path, dtype='float32')\n",
    "        waveform = torch.tensor(waveform).unsqueeze(0)  # Add channel dimension\n",
    "        \n",
    "        if self.transform:\n",
    "            waveform = self.transform(waveform)\n",
    "        \n",
    "        return waveform, label\n"
   ]
  },
  {
   "cell_type": "code",
   "execution_count": 24,
   "metadata": {},
   "outputs": [],
   "source": [
    "class M5(nn.Module):\n",
    "    def __init__(self, num_classes):\n",
    "        super(M5, self).__init__()\n",
    "        self.conv1 = nn.Conv1d(1, 32, kernel_size=80, stride=16)\n",
    "        self.bn1 = nn.BatchNorm1d(32)\n",
    "        self.pool1 = nn.MaxPool1d(4)\n",
    "        \n",
    "        self.conv2 = nn.Conv1d(32, 64, kernel_size=3)\n",
    "        self.bn2 = nn.BatchNorm1d(64)\n",
    "        self.pool2 = nn.MaxPool1d(4)\n",
    "        \n",
    "        self.conv3 = nn.Conv1d(64, 128, kernel_size=3)\n",
    "        self.bn3 = nn.BatchNorm1d(128)\n",
    "        self.pool3 = nn.MaxPool1d(4)\n",
    "        \n",
    "        self.fc1 = None  # We will dynamically calculate the size of the flattened layer\n",
    "\n",
    "    def forward(self, x):\n",
    "        x = self.pool1(F.relu(self.bn1(self.conv1(x))))\n",
    "        x = self.pool2(F.relu(self.bn2(self.conv2(x))))\n",
    "        x = self.pool3(F.relu(self.bn3(self.conv3(x))))\n",
    "        \n",
    "        x = x.view(x.size(0), -1)  # Flatten the tensor\n",
    "        \n",
    "        # Dynamically calculate the input size for the fully connected layer\n",
    "        if self.fc1 is None:\n",
    "            flattened_size = x.size(1)  # Get the flattened size\n",
    "            self.fc1 = nn.Linear(flattened_size, 4)  # 4 output classes (apple, orange, cherry, unknown)\n",
    "            self.add_module(\"fc1\", self.fc1)  # Add the fc1 layer to the module\n",
    "\n",
    "        x = self.fc1(x)  # Pass through the fully connected layer\n",
    "        return x\n"
   ]
  },
  {
   "cell_type": "markdown",
   "metadata": {},
   "source": [
    "### DATASET"
   ]
  },
  {
   "cell_type": "code",
   "execution_count": 25,
   "metadata": {},
   "outputs": [],
   "source": [
    "# structure training label files\n",
    "train_label_path = 'data/training/info.labels'\n",
    "train_label_data = pd.read_json(train_label_path)\n",
    "\n",
    "df_train = train_label_data.copy()\n",
    "df_train = pd.json_normalize(df_train[\"files\"])\n",
    "\n",
    "df_train = df_train.drop(columns=[\"label.type\"])\n",
    "df_train = df_train.rename(columns={\"label.label\":\"label\"})\n",
    "\n",
    "# save json file\n",
    "df_train = df_train.to_json(\"data/train_labels.json\", orient='records', indent=4) \n",
    "\n",
    "\n",
    "# structure testing label files\n",
    "test_label_path = 'data/testing/info.labels'\n",
    "test_label_data = pd.read_json(test_label_path)\n",
    "\n",
    "df_test = test_label_data.copy()\n",
    "df_test = pd.json_normalize(df_test[\"files\"])\n",
    "\n",
    "df_test = df_test.drop(columns=[\"label.type\"])\n",
    "df_test = df_test.rename(columns={\"label.label\":\"label\"})\n",
    "\n",
    "# save json file\n",
    "df_test = df_test.to_json(\"data/test_labels.json\", orient='records', indent=4) "
   ]
  },
  {
   "cell_type": "code",
   "execution_count": 26,
   "metadata": {},
   "outputs": [],
   "source": [
    "# Load dataset\n",
    "train_dataset = AudioDataset('data/training', 'data/train_labels.json')\n",
    "test_dataset = AudioDataset('data/testing', 'data/test_labels.json')\n",
    "\n",
    "train_loader = DataLoader(train_dataset, batch_size=16, shuffle=True)\n",
    "test_loader = DataLoader(test_dataset, batch_size=16, shuffle=False)"
   ]
  },
  {
   "cell_type": "markdown",
   "metadata": {},
   "source": [
    "### Model Training"
   ]
  },
  {
   "cell_type": "code",
   "execution_count": 27,
   "metadata": {},
   "outputs": [],
   "source": [
    "# Initialize model\n",
    "num_classes = 4  # apple, orange, cherry, unknown\n",
    "model = M5(num_classes)\n",
    "# Training setup\n",
    "criterion = nn.CrossEntropyLoss()\n",
    "optimizer = optim.Adam(model.parameters(), lr=0.001)"
   ]
  },
  {
   "cell_type": "code",
   "execution_count": 28,
   "metadata": {},
   "outputs": [],
   "source": [
    "def train(model, loader, criterion, optimizer, epochs=10):\n",
    "    model.train()\n",
    "    for epoch in range(epochs):\n",
    "        running_loss = 0.0\n",
    "        correct_predictions = 0\n",
    "        total_samples = 0\n",
    "        \n",
    "        for inputs, labels in loader:\n",
    "            optimizer.zero_grad()\n",
    "            outputs = model(inputs)\n",
    "            \n",
    "            # Calculate loss\n",
    "            loss = criterion(outputs, labels)\n",
    "            loss.backward()\n",
    "            optimizer.step()\n",
    "            \n",
    "            running_loss += loss.item()\n",
    "            \n",
    "            # Calculate accuracy\n",
    "            _, predicted = torch.max(outputs, 1)  # Get the index of the max log-probability\n",
    "            correct_predictions += (predicted == labels).sum().item()\n",
    "            total_samples += labels.size(0)\n",
    "        \n",
    "        accuracy = 100 * correct_predictions / total_samples\n",
    "        print(f\"Epoch {epoch+1}, Loss: {running_loss/len(loader)}, Accuracy: {accuracy:.2f}%\")\n",
    "  "
   ]
  },
  {
   "cell_type": "code",
   "execution_count": 29,
   "metadata": {},
   "outputs": [],
   "source": [
    "def evaluate(model, loader):\n",
    "    model.eval()\n",
    "    correct_predictions = 0\n",
    "    total_samples = 0\n",
    "    \n",
    "    with torch.no_grad():\n",
    "        for inputs, labels in loader:\n",
    "            outputs = model(inputs)\n",
    "            _, predicted = torch.max(outputs, 1)\n",
    "            correct_predictions += (predicted == labels).sum().item()\n",
    "            total_samples += labels.size(0)\n",
    "    \n",
    "    accuracy = 100 * correct_predictions / total_samples\n",
    "    print(f\"Test Accuracy: {accuracy:.2f}%\")"
   ]
  },
  {
   "cell_type": "code",
   "execution_count": null,
   "metadata": {},
   "outputs": [
    {
     "name": "stdout",
     "output_type": "stream",
     "text": [
      "Epoch 1, Loss: 1.331907373208266, Accuracy: 36.50%\n",
      "Epoch 2, Loss: 1.091023550583766, Accuracy: 58.50%\n",
      "Epoch 3, Loss: 0.9489156099466177, Accuracy: 69.00%\n",
      "Epoch 4, Loss: 0.8679219576028677, Accuracy: 77.00%\n",
      "Epoch 5, Loss: 0.8187251274402325, Accuracy: 84.00%\n",
      "Epoch 6, Loss: 0.7409789837323703, Accuracy: 89.50%\n",
      "Epoch 7, Loss: 0.6464042801123399, Accuracy: 90.00%\n",
      "Epoch 8, Loss: 0.6097729939680833, Accuracy: 94.50%\n",
      "Epoch 9, Loss: 0.5601476385043218, Accuracy: 96.00%\n",
      "Epoch 10, Loss: 0.5188101621774527, Accuracy: 95.50%\n",
      "Epoch 11, Loss: 0.4841405978569618, Accuracy: 95.00%\n",
      "Epoch 12, Loss: 0.44619798545654005, Accuracy: 97.00%\n",
      "Epoch 13, Loss: 0.46614824579312253, Accuracy: 97.50%\n",
      "Epoch 14, Loss: 0.42082299292087555, Accuracy: 97.00%\n",
      "Epoch 15, Loss: 0.36672885028215557, Accuracy: 98.00%\n",
      "Epoch 16, Loss: 0.3709248992112967, Accuracy: 98.50%\n",
      "Epoch 17, Loss: 0.3063592945153897, Accuracy: 98.50%\n",
      "Epoch 18, Loss: 0.310408639220091, Accuracy: 98.50%\n",
      "Epoch 19, Loss: 0.27286877769690293, Accuracy: 99.00%\n",
      "Epoch 20, Loss: 0.25137948531370896, Accuracy: 98.00%\n",
      "Epoch 21, Loss: 0.2684261076725446, Accuracy: 99.00%\n",
      "Epoch 22, Loss: 0.2314430704483619, Accuracy: 99.50%\n",
      "Epoch 23, Loss: 0.22151750039595824, Accuracy: 99.50%\n",
      "Epoch 24, Loss: 0.22921840445353434, Accuracy: 100.00%\n",
      "Epoch 25, Loss: 0.22156071777527148, Accuracy: 100.00%\n",
      "Epoch 26, Loss: 0.2197600121681507, Accuracy: 100.00%\n",
      "Epoch 27, Loss: 0.20038366203124708, Accuracy: 100.00%\n",
      "Epoch 28, Loss: 0.19058831551900277, Accuracy: 99.50%\n",
      "Epoch 29, Loss: 0.17594653883805642, Accuracy: 100.00%\n",
      "Epoch 30, Loss: 0.1821979800095925, Accuracy: 100.00%\n",
      "Epoch 31, Loss: 0.1593498490177668, Accuracy: 99.50%\n",
      "Epoch 32, Loss: 0.15625695053201455, Accuracy: 100.00%\n",
      "Epoch 33, Loss: 0.1486659084375088, Accuracy: 100.00%\n",
      "Epoch 34, Loss: 0.12737729085179475, Accuracy: 99.50%\n",
      "Epoch 35, Loss: 0.13443149311038163, Accuracy: 99.50%\n",
      "Epoch 36, Loss: 0.140448072208808, Accuracy: 100.00%\n",
      "Epoch 37, Loss: 0.13076285674021795, Accuracy: 99.50%\n",
      "Epoch 38, Loss: 0.12289315490768506, Accuracy: 99.50%\n",
      "Epoch 39, Loss: 0.10112241197090882, Accuracy: 100.00%\n",
      "Epoch 40, Loss: 0.09504850180103229, Accuracy: 99.50%\n",
      "Epoch 41, Loss: 0.08894609287381172, Accuracy: 100.00%\n",
      "Epoch 42, Loss: 0.0810468543607455, Accuracy: 100.00%\n",
      "Epoch 43, Loss: 0.09361324573938663, Accuracy: 100.00%\n",
      "Epoch 44, Loss: 0.08242426268183269, Accuracy: 100.00%\n",
      "Epoch 45, Loss: 0.09118821128056599, Accuracy: 100.00%\n",
      "Epoch 46, Loss: 0.07751084921451715, Accuracy: 99.50%\n",
      "Epoch 47, Loss: 0.08172996600086872, Accuracy: 100.00%\n",
      "Epoch 48, Loss: 0.07942813634872437, Accuracy: 99.50%\n",
      "Epoch 49, Loss: 0.0709085134932628, Accuracy: 100.00%\n",
      "Epoch 50, Loss: 0.06534909070111238, Accuracy: 100.00%\n",
      "Test Accuracy: 80.00%\n"
     ]
    }
   ],
   "source": [
    "# Train the model\n",
    "train(model, train_loader, criterion, optimizer, epochs=50)"
   ]
  },
  {
   "cell_type": "markdown",
   "metadata": {},
   "source": [
    "### Evaluation"
   ]
  },
  {
   "cell_type": "code",
   "execution_count": 31,
   "metadata": {},
   "outputs": [
    {
     "name": "stdout",
     "output_type": "stream",
     "text": [
      "Test Accuracy: 80.00%\n"
     ]
    }
   ],
   "source": [
    "# Evaluate the model on the test set\n",
    "evaluate(model, test_loader)"
   ]
  }
 ],
 "metadata": {
  "kernelspec": {
   "display_name": ".venv",
   "language": "python",
   "name": "python3"
  },
  "language_info": {
   "codemirror_mode": {
    "name": "ipython",
    "version": 3
   },
   "file_extension": ".py",
   "mimetype": "text/x-python",
   "name": "python",
   "nbconvert_exporter": "python",
   "pygments_lexer": "ipython3",
   "version": "3.11.4"
  }
 },
 "nbformat": 4,
 "nbformat_minor": 2
}
