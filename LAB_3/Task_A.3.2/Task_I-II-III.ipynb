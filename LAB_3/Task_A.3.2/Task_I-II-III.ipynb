{
 "cells": [
  {
   "cell_type": "markdown",
   "metadata": {},
   "source": [
    "# Task A.3.2: Predict the Rain!  - IOT DATA\n",
    "\n"
   ]
  },
  {
   "cell_type": "markdown",
   "metadata": {},
   "source": [
    "## Task I\n",
    "Use Linear regression, SVM (with Linear kernel), and Random Forest(with a maximum depth of less than 10) algorithms to classify the weather data in 5 output classes: \"drizzle\", \"rain\", \"sun\", \"snow\", \"fog\"  (5 pts-Mandatory)"
   ]
  },
  {
   "cell_type": "code",
   "execution_count": 3,
   "metadata": {},
   "outputs": [],
   "source": [
    "# Libraries\n",
    "\n",
    "import torch\n",
    "import torch.nn as nn\n",
    "import torch.optim as optim\n",
    "import torchvision.transforms as transforms\n",
    "from torchvision import datasets\n",
    "from torch.utils.data import DataLoader\n",
    "\n",
    "#from sklearn import datasets \n",
    "# # Import train_test_split function\n",
    "from sklearn.model_selection import train_test_split  \n",
    "#Import scikit-learn dataset library\n",
    "from sklearn import svm #Import svm model\n",
    "from sklearn import metrics #Import scikit-learn metrics module for accuracy calculation\n",
    "from sklearn.ensemble import RandomForestClassifier\n",
    "from sklearn.datasets import make_classification\n",
    "\n",
    "import matplotlib.pyplot as plt\n",
    "\n",
    "import numpy as np\n",
    "\n",
    "import pandas as pd"
   ]
  },
  {
   "cell_type": "code",
   "execution_count": 18,
   "metadata": {},
   "outputs": [
    {
     "name": "stdout",
     "output_type": "stream",
     "text": [
      "   precipitation  temp_max  temp_min  wind  weather\n",
      "0            0.0      12.8       5.0   4.7  drizzle\n",
      "1           10.9      10.6       2.8   4.5     rain\n",
      "2            0.8      11.7       7.2   2.3     rain\n",
      "3           20.3      12.2       5.6   4.7     rain\n",
      "4            1.3       8.9       2.8   6.1     rain\n",
      "      precipitation  temp_max  temp_min  wind weather\n",
      "1456            8.6       4.4       1.7   2.9    rain\n",
      "1457            1.5       5.0       1.7   1.3    rain\n",
      "1458            0.0       7.2       0.6   2.6     fog\n",
      "1459            0.0       5.6      -1.0   3.4     sun\n",
      "1460            0.0       5.6      -2.1   3.5     sun\n",
      "Shape Train:  (1168, 5) Shape Test:  (293, 5)\n"
     ]
    }
   ],
   "source": [
    "# Load dataset\n",
    "file_path = 'data/seattle-weather.csv'\n",
    "data = pd.read_csv(file_path, delimiter=',', usecols=['precipitation','temp_max','temp_min','wind','weather']) # Loading excluding date column\n",
    "\n",
    "# Print the first&last 5 rows of the dataframe.\n",
    "print(data.head())\n",
    "print(data.tail())\n",
    "\n",
    "# Train, test, split\n",
    "X_train, X_test = train_test_split(data, test_size=0.2, random_state=42)\n",
    "print(\"Shape Train: \", X_train.shape, \"Shape Test: \", X_test.shape)"
   ]
  },
  {
   "cell_type": "markdown",
   "metadata": {},
   "source": [
    "### Linear Regression"
   ]
  },
  {
   "cell_type": "code",
   "execution_count": 20,
   "metadata": {},
   "outputs": [
    {
     "ename": "ValueError",
     "evalue": "could not determine the shape of object type 'DataFrame'",
     "output_type": "error",
     "traceback": [
      "\u001b[1;31m---------------------------------------------------------------------------\u001b[0m",
      "\u001b[1;31mValueError\u001b[0m                                Traceback (most recent call last)",
      "Cell \u001b[1;32mIn[20], line 2\u001b[0m\n\u001b[0;32m      1\u001b[0m \u001b[38;5;66;03m# Convert data to tensors\u001b[39;00m\n\u001b[1;32m----> 2\u001b[0m X_train \u001b[38;5;241m=\u001b[39m \u001b[43mtorch\u001b[49m\u001b[38;5;241;43m.\u001b[39;49m\u001b[43mtensor\u001b[49m\u001b[43m(\u001b[49m\u001b[43mX_train\u001b[49m\u001b[43m,\u001b[49m\u001b[43m \u001b[49m\u001b[43mdtype\u001b[49m\u001b[38;5;241;43m=\u001b[39;49m\u001b[43mtorch\u001b[49m\u001b[38;5;241;43m.\u001b[39;49m\u001b[43mfloat32\u001b[49m\u001b[43m)\u001b[49m\n\u001b[0;32m      3\u001b[0m X_test \u001b[38;5;241m=\u001b[39m torch\u001b[38;5;241m.\u001b[39mtensor(X_test, dtype\u001b[38;5;241m=\u001b[39mtorch\u001b[38;5;241m.\u001b[39mfloat32)\n\u001b[0;32m      5\u001b[0m \u001b[38;5;66;03m#Splitting into train and validation datasets with 67% trainset and 33% validation set\u001b[39;00m\n\u001b[0;32m      6\u001b[0m \u001b[38;5;66;03m#X_train, X_test, y_train, y_test = train_test_split(X, y, test_size=0.33)\u001b[39;00m\n",
      "\u001b[1;31mValueError\u001b[0m: could not determine the shape of object type 'DataFrame'"
     ]
    }
   ],
   "source": [
    "# Convert data to tensors\n",
    "X_train = torch.tensor(X_train, dtype=torch.float32)\n",
    "X_test = torch.tensor(X_test, dtype=torch.float32)\n",
    "\n",
    "#Splitting into train and validation datasets with 67% trainset and 33% validation set\n",
    "#X_train, X_test, y_train, y_test = train_test_split(X, y, test_size=0.33)"
   ]
  },
  {
   "cell_type": "code",
   "execution_count": 19,
   "metadata": {},
   "outputs": [
    {
     "name": "stdout",
     "output_type": "stream",
     "text": [
      "Sequential(\n",
      "  (0): Linear(in_features=5, out_features=5, bias=True)\n",
      ")\n"
     ]
    }
   ],
   "source": [
    "#Section II-defining the model:  linear regression model with 2 layers, input and output\n",
    "model = nn.Sequential(\n",
    "  nn.Linear(5, 5) # 5 input features  → 5 output classes \n",
    "  #,nn.Sigmoid()\n",
    ")\n",
    "#printing model layers and specifications\n",
    "print(model)"
   ]
  },
  {
   "cell_type": "code",
   "execution_count": null,
   "metadata": {},
   "outputs": [],
   "source": [
    "#Secion III-training the model\n",
    "n_epochs = 10\n",
    "batch_size = 8\n",
    "history = []\n",
    "# define loss function\n",
    "loss_fn = nn.MSELoss()\n",
    "# define optimizer with a spicific learning rate\n",
    "optimizer = optim.Adam(model.parameters(), lr=0.001)\n",
    "for epoch in range(n_epochs):\n",
    "  for i in range(0, len(X_train), batch_size):\n",
    "        # take a batch\n",
    "        Xbatch = X_train[i:i+batch_size]\n",
    "        # ybatch = y_train[i:i+batch_size]\n",
    "        # forward pass\n",
    "        y_pred =model(Xbatch) #  torch.max(model(Xbatch), 1)\n",
    "        loss = loss_fn(y_pred)\n",
    "        # backward pass\n",
    "        optimizer.zero_grad()\n",
    "        loss.backward()\n",
    "        # update weights\n",
    "        optimizer.step()\n",
    "\n",
    "  model.eval()\n",
    "  y_pred = model(X_test)\n",
    "  mse = loss_fn(y_pred, X_test)\n",
    "  #mse_train = loss_fn(y_, y_test)\n",
    "  mse = float(mse)\n",
    "  history.append(mse)\n",
    "  print(f'Finished epoch {epoch}, latest MSE {mse}')\n",
    "\n",
    "print('Final MSE:', history[-1])\n",
    "print('Total MSE:', sum(history)/len(history))"
   ]
  }
 ],
 "metadata": {
  "kernelspec": {
   "display_name": ".venv",
   "language": "python",
   "name": "python3"
  },
  "language_info": {
   "codemirror_mode": {
    "name": "ipython",
    "version": 3
   },
   "file_extension": ".py",
   "mimetype": "text/x-python",
   "name": "python",
   "nbconvert_exporter": "python",
   "pygments_lexer": "ipython3",
   "version": "3.11.4"
  }
 },
 "nbformat": 4,
 "nbformat_minor": 2
}
