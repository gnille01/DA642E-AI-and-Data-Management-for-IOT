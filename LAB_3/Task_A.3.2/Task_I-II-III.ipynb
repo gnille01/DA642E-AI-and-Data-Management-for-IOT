{
 "cells": [
  {
   "cell_type": "markdown",
   "metadata": {},
   "source": [
    "# Task A.3.2: Predict the Rain!  - IOT DATA\n",
    "\n"
   ]
  },
  {
   "cell_type": "markdown",
   "metadata": {},
   "source": [
    "## Task I\n",
    "Use Linear regression, SVM (with Linear kernel), and Random Forest(with a maximum depth of less than 10) algorithms to classify the weather data in 5 output classes: \"drizzle\", \"rain\", \"sun\", \"snow\", \"fog\"  (5 pts-Mandatory)"
   ]
  },
  {
   "cell_type": "code",
   "execution_count": 3,
   "metadata": {},
   "outputs": [],
   "source": [
    "# Libraries\n",
    "\n",
    "import torch\n",
    "import torch.nn as nn\n",
    "import torch.optim as optim\n",
    "import torchvision.transforms as transforms\n",
    "from torchvision import datasets\n",
    "from torch.utils.data import DataLoader\n",
    "\n",
    "#from sklearn import datasets \n",
    "# # Import train_test_split function\n",
    "from sklearn.model_selection import train_test_split  \n",
    "#Import scikit-learn dataset library\n",
    "from sklearn import svm #Import svm model\n",
    "from sklearn import metrics #Import scikit-learn metrics module for accuracy calculation\n",
    "from sklearn.ensemble import RandomForestClassifier\n",
    "from sklearn.datasets import make_classification\n",
    "\n",
    "import matplotlib.pyplot as plt\n",
    "\n",
    "import numpy as np\n",
    "\n",
    "import pandas as pd"
   ]
  },
  {
   "cell_type": "code",
   "execution_count": null,
   "metadata": {},
   "outputs": [
    {
     "name": "stdout",
     "output_type": "stream",
     "text": [
      "         date  precipitation  temp_max  temp_min  wind  weather\n",
      "0  2012-01-01            0.0      12.8       5.0   4.7  drizzle\n",
      "1  2012-01-02           10.9      10.6       2.8   4.5     rain\n",
      "2  2012-01-03            0.8      11.7       7.2   2.3     rain\n",
      "3  2012-01-04           20.3      12.2       5.6   4.7     rain\n",
      "4  2012-01-05            1.3       8.9       2.8   6.1     rain\n",
      "            date  precipitation  temp_max  temp_min  wind weather\n",
      "1456  2015-12-27            8.6       4.4       1.7   2.9    rain\n",
      "1457  2015-12-28            1.5       5.0       1.7   1.3    rain\n",
      "1458  2015-12-29            0.0       7.2       0.6   2.6     fog\n",
      "1459  2015-12-30            0.0       5.6      -1.0   3.4     sun\n",
      "1460  2015-12-31            0.0       5.6      -2.1   3.5     sun\n"
     ]
    }
   ],
   "source": [
    "# Load dataset\n",
    "file_path = 'data/seattle-weather.csv'\n",
    "data = pd.read_csv(file_path, delimiter=',')\n",
    "\n",
    "# Print the first&last 5 rows of the dataframe.\n",
    "print(data.head())\n",
    "print(data.tail())"
   ]
  },
  {
   "cell_type": "markdown",
   "metadata": {},
   "source": [
    "### Linear Regression"
   ]
  },
  {
   "cell_type": "code",
   "execution_count": null,
   "metadata": {},
   "outputs": [],
   "source": [
    "#Create a svm Classifier with Linear Kernel\n",
    "clf = svm.SVC(kernel='linear') \n",
    "#Train the model using the training sets\n",
    "clf.fit(X_train, y_train) \n",
    "#Predict the response for test dataset \n",
    "y_pred = clf.predict(X_test) \n",
    "\n",
    "# Model Accuracy: how often is the classifier correct\n",
    "print(\"Accuracy:\",metrics.accuracy_score(y_test, y_pred))\n",
    "# Model Precision and Recall: what percentage of positive tuples are labeled as such? \n",
    "print(\"Precision:\",metrics.precision_score(y_test, y_pred, average='weighted')) \n",
    "print(\"Recall:\",metrics.recall_score(y_test, y_pred, average='weighted'))\n",
    "# Ensure predictions are 1D\n",
    "y_pred = np.array(y_pred).flatten()  \n",
    "y_test = np.array(y_test).flatten()\n",
    "\n",
    "# Convert data to tensors\n",
    "y_test = torch.tensor(y_test, dtype=torch.float32).reshape(-1, 1)\n",
    "y_pred = torch.tensor(y_pred, dtype=torch.float32).reshape(-1, 1)\n",
    "\n",
    "# Debugging, data shapes and unique labels\n",
    "print(f\"y_test shape: {y_test.shape}\")\n",
    "print(f\"y_pred shape: {y_pred.shape}\")\n",
    "print(f\"y_test unique labels: {set(y_test.numpy().flatten())}\")\n",
    "print(f\"y_pred unique labels: {set(y_pred.numpy().flatten())}\")\n",
    "print(f\"y_test length: {len(y_test)}\")\n",
    "print(f\"y_pred length: {len(y_pred)}\")\n",
    "\n",
    "history_SVM = []  ## list not needed as model only produces one MSE value\n",
    "# define loss function\n",
    "loss_fn = nn.MSELoss()\n",
    "mse = loss_fn(y_pred, y_test).item()\n",
    "#mse_train = loss_fn(y_, y_test)\n",
    "mse = float(mse)\n",
    "history_SVM.append(mse) ##\n",
    "\n",
    "print('Final MSE:', history_SVM[-1])\n",
    "# visualizing the outputs\n",
    "plt.figure(figsize=(6, 5))\n",
    "plt.scatter([\"SVM\"], [history_SVM], color='red')\n",
    "\n",
    "plt.plot(history_SVM)\n",
    "plt.title('SVM - Mean Square Error')\n",
    "plt.xlabel(\"Epoch\")\n",
    "plt.ylabel(\"\")\n",
    "plt.grid(True)\n",
    "plt.legend([\"SVM\"])\n",
    "plt.show()"
   ]
  }
 ],
 "metadata": {
  "kernelspec": {
   "display_name": ".venv",
   "language": "python",
   "name": "python3"
  },
  "language_info": {
   "codemirror_mode": {
    "name": "ipython",
    "version": 3
   },
   "file_extension": ".py",
   "mimetype": "text/x-python",
   "name": "python",
   "nbconvert_exporter": "python",
   "pygments_lexer": "ipython3",
   "version": "3.11.4"
  }
 },
 "nbformat": 4,
 "nbformat_minor": 2
}
