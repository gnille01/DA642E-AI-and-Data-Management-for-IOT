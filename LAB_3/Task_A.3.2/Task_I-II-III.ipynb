{
 "cells": [
  {
   "cell_type": "markdown",
   "metadata": {},
   "source": [
    "# Task A.3.2: Predict the Rain!  - IOT DATA\n",
    "\n"
   ]
  },
  {
   "cell_type": "markdown",
   "metadata": {},
   "source": [
    "## Task I\n",
    "Use Linear regression, SVM (with Linear kernel), and Random Forest(with a maximum depth of less than 10) algorithms to classify the weather data in 5 output classes: \"drizzle\", \"rain\", \"sun\", \"snow\", \"fog\"  (5 pts-Mandatory)"
   ]
  },
  {
   "cell_type": "code",
   "execution_count": 127,
   "metadata": {},
   "outputs": [],
   "source": [
    "# Libraries\n",
    "\n",
    "import torch\n",
    "import torch.nn as nn\n",
    "import torch.optim as optim\n",
    "import torchvision.transforms as transforms\n",
    "from torchvision import datasets\n",
    "from torch.utils.data import DataLoader\n",
    "\n",
    "#from sklearn import datasets \n",
    "# # Import train_test_split function\n",
    "from sklearn.model_selection import train_test_split  \n",
    "#Import scikit-learn dataset library\n",
    "from sklearn import svm #Import svm model\n",
    "from sklearn import metrics #Import scikit-learn metrics module for accuracy calculation\n",
    "from sklearn.ensemble import RandomForestClassifier\n",
    "from sklearn.datasets import make_classification\n",
    "\n",
    "import matplotlib.pyplot as plt\n",
    "\n",
    "import numpy as np\n",
    "\n",
    "import pandas as pd"
   ]
  },
  {
   "cell_type": "code",
   "execution_count": 175,
   "metadata": {},
   "outputs": [
    {
     "name": "stdout",
     "output_type": "stream",
     "text": [
      "[0 2 4 3 1]\n",
      "   precipitation  temp_max  temp_min  wind  target\n",
      "0            0.0      12.8       5.0   4.7       0\n",
      "1           10.9      10.6       2.8   4.5       2\n",
      "2            0.8      11.7       7.2   2.3       2\n",
      "3           20.3      12.2       5.6   4.7       2\n",
      "4            1.3       8.9       2.8   6.1       2\n",
      "      precipitation  temp_max  temp_min  wind  target\n",
      "1456            8.6       4.4       1.7   2.9       2\n",
      "1457            1.5       5.0       1.7   1.3       2\n",
      "1458            0.0       7.2       0.6   2.6       1\n",
      "1459            0.0       5.6      -1.0   3.4       4\n",
      "1460            0.0       5.6      -2.1   3.5       4\n"
     ]
    }
   ],
   "source": [
    "# Load dataset\n",
    "file_path = 'data/seattle-weather.csv'\n",
    "data = pd.read_csv(file_path, delimiter=',', usecols=['precipitation','temp_max','temp_min','wind','weather']) # Loading excluding date column\n",
    "\n",
    "# rename column 'weather' to 'target'\n",
    "data = data.rename(columns={'weather': 'target'})\n",
    "data['target'] = data['target'].astype('category').cat.codes # Convert weather to categorical\n",
    "\n",
    "# Debugging statements\n",
    "print(data['target'].unique())\n",
    "print(data.head())\n",
    "print(data.tail())\n",
    "\n",
    "X = data[['precipitation','temp_max','temp_min','wind']] #, 'target' # Features\n",
    "y = data['target'] # Target variable\n",
    "\n"
   ]
  },
  {
   "cell_type": "markdown",
   "metadata": {},
   "source": [
    "### Linear Regression"
   ]
  },
  {
   "cell_type": "code",
   "execution_count": 185,
   "metadata": {},
   "outputs": [
    {
     "name": "stdout",
     "output_type": "stream",
     "text": [
      "Train Tensor Shape: torch.Size([1461, 4])\n",
      "Test Tensor Shape: torch.Size([1461, 1])\n",
      "Shape Train:  torch.Size([1168, 4]) Shape Test:  torch.Size([293, 4]) Shape y_train:  torch.Size([1168, 1]) Shape y_test:  torch.Size([293, 1])\n"
     ]
    }
   ],
   "source": [
    "X = data[['precipitation','temp_max','temp_min','wind']].values #, 'target' # Features\n",
    "y = data['target'].values # Target variable\n",
    "\n",
    "# Convert data to tensors\n",
    "X = torch.tensor(X, dtype=torch.float32)\n",
    "y = torch.tensor(y, dtype=torch.float32).reshape(-1, 1)\n",
    "\n",
    "print(\"Train Tensor Shape:\", X.shape)\n",
    "print(\"Test Tensor Shape:\", y.shape)\n",
    "\n",
    "# Train, test, split\n",
    "X_train, X_test, y_train, y_test = train_test_split(X, y, test_size=0.2, random_state=42)\n",
    "print(\"Shape Train: \", X_train.shape, \"Shape Test: \", X_test.shape,\n",
    "      \"Shape y_train: \", y_train.shape, \"Shape y_test: \", y_test.shape)"
   ]
  },
  {
   "cell_type": "code",
   "execution_count": 186,
   "metadata": {},
   "outputs": [
    {
     "name": "stdout",
     "output_type": "stream",
     "text": [
      "Sequential(\n",
      "  (0): Linear(in_features=4, out_features=5, bias=True)\n",
      "  (1): Sigmoid()\n",
      ")\n"
     ]
    }
   ],
   "source": [
    "#Section II-defining the model:  linear regression model with 2 layers, input and output\n",
    "model = nn.Sequential(\n",
    "  nn.Linear(4, 5), # 5 input features  → 5 output classes \n",
    "  nn.Sigmoid()\n",
    ")\n",
    "#printing model layers and specifications\n",
    "print(model)"
   ]
  },
  {
   "cell_type": "code",
   "execution_count": 187,
   "metadata": {},
   "outputs": [
    {
     "name": "stderr",
     "output_type": "stream",
     "text": [
      "c:\\Users\\ellin\\OneDrive\\Documents\\MSc_IoT_MAU\\DA642E-AI-and-Data-Management-for-IOT\\.venv\\Lib\\site-packages\\torch\\nn\\modules\\loss.py:610: UserWarning: Using a target size (torch.Size([32, 1])) that is different to the input size (torch.Size([32, 5])). This will likely lead to incorrect results due to broadcasting. Please ensure they have the same size.\n",
      "  return F.mse_loss(input, target, reduction=self.reduction)\n",
      "c:\\Users\\ellin\\OneDrive\\Documents\\MSc_IoT_MAU\\DA642E-AI-and-Data-Management-for-IOT\\.venv\\Lib\\site-packages\\torch\\nn\\modules\\loss.py:610: UserWarning: Using a target size (torch.Size([16, 1])) that is different to the input size (torch.Size([16, 5])). This will likely lead to incorrect results due to broadcasting. Please ensure they have the same size.\n",
      "  return F.mse_loss(input, target, reduction=self.reduction)\n",
      "c:\\Users\\ellin\\OneDrive\\Documents\\MSc_IoT_MAU\\DA642E-AI-and-Data-Management-for-IOT\\.venv\\Lib\\site-packages\\torch\\nn\\modules\\loss.py:610: UserWarning: Using a target size (torch.Size([293, 1])) that is different to the input size (torch.Size([293, 5])). This will likely lead to incorrect results due to broadcasting. Please ensure they have the same size.\n",
      "  return F.mse_loss(input, target, reduction=self.reduction)\n"
     ]
    },
    {
     "name": "stdout",
     "output_type": "stream",
     "text": [
      "Finished epoch 0, latest MSE 6.96004581451416\n",
      "Finished epoch 1, latest MSE 6.645587921142578\n",
      "Finished epoch 2, latest MSE 6.290507793426514\n",
      "Finished epoch 3, latest MSE 6.01702880859375\n",
      "Finished epoch 4, latest MSE 5.453156471252441\n",
      "Finished epoch 5, latest MSE 4.859267711639404\n",
      "Finished epoch 6, latest MSE 4.752207279205322\n",
      "Finished epoch 7, latest MSE 4.7138800621032715\n",
      "Finished epoch 8, latest MSE 4.691064834594727\n",
      "Finished epoch 9, latest MSE 4.675168037414551\n",
      "Final MSE: 4.675168037414551\n",
      "Total MSE: 5.505791473388672\n"
     ]
    }
   ],
   "source": [
    "#Section III-training the model\n",
    "n_epochs = 10\n",
    "batch_size = 32\n",
    "history_linReg = []\n",
    "# define loss function\n",
    "loss_fn = nn.MSELoss()\n",
    "# define optimizer with a spicific learning rate\n",
    "optimizer = optim.Adam(model.parameters(), lr=0.001)\n",
    "for epoch in range(n_epochs):\n",
    "  for i in range(0, len(X_train), batch_size):\n",
    "        # take a batch\n",
    "        Xbatch = X_train[i:i+batch_size]\n",
    "        ybatch = y_train[i:i+batch_size]\n",
    "        # forward pass\n",
    "        y_pred =model(Xbatch) #  torch.max(model(Xbatch), 1)\n",
    "        loss = loss_fn(y_pred, ybatch)\n",
    "        # backward pass\n",
    "        optimizer.zero_grad()\n",
    "        loss.backward()\n",
    "        # update weights\n",
    "        optimizer.step()\n",
    "\n",
    "  model.eval()\n",
    "  y_pred = model(X_test)\n",
    "  mse = loss_fn(y_pred, y_test)\n",
    "  #mse_train = loss_fn(y_, y_test)\n",
    "  mse = float(mse)\n",
    "  history_linReg.append(mse)\n",
    "  print(f'Finished epoch {epoch}, latest MSE {mse}')\n",
    "\n",
    "print('Final MSE:', history_linReg[-1])\n",
    "print('Total MSE:', sum(history_linReg)/len(history_linReg))"
   ]
  },
  {
   "cell_type": "code",
   "execution_count": 188,
   "metadata": {},
   "outputs": [
    {
     "name": "stdout",
     "output_type": "stream",
     "text": [
      "Accuracy 0.0699520856142044\n"
     ]
    }
   ],
   "source": [
    "# compute accuracy (no_grad is optional)\n",
    "with torch.no_grad():\n",
    "    y_pred = model(X)\n",
    "accuracy = (y_pred.round() == y).float().mean()\n",
    "print(f\"Accuracy {accuracy}\")"
   ]
  },
  {
   "cell_type": "code",
   "execution_count": 189,
   "metadata": {},
   "outputs": [
    {
     "data": {
      "image/png": "[encoded data removed]",
      "text/plain": [
       "<Figure size 640x480 with 1 Axes>"
      ]
     },
     "metadata": {},
     "output_type": "display_data"
    }
   ],
   "source": [
    "#Section V-visualizing the outputs\n",
    "plt.plot(history_linReg)\n",
    "plt.title('Linear Regression - Mean Square Error')\n",
    "plt.xlabel(\"Epoch\")\n",
    "plt.ylabel(\"MSE\")\n",
    "plt.show()"
   ]
  },
  {
   "cell_type": "markdown",
   "metadata": {},
   "source": [
    "### SVM"
   ]
  },
  {
   "cell_type": "code",
   "execution_count": 107,
   "metadata": {},
   "outputs": [
    {
     "name": "stdout",
     "output_type": "stream",
     "text": [
      "Accuracy: 0.9931740614334471\n",
      "Precision: 0.9935435647194878\n",
      "Recall: 0.9931740614334471\n"
     ]
    }
   ],
   "source": [
    "# Train, test, split\n",
    "X_train, X_test, y_train, y_test = train_test_split(X, y, test_size=0.2, random_state=42)\n",
    "\n",
    "#Create a svm Classifier with Linear Kernel\n",
    "clf = svm.SVC(kernel='linear') \n",
    "#Train the model using the training sets\n",
    "clf.fit(X_train, y_train) \n",
    "#Predict the response for test dataset \n",
    "y_pred = clf.predict(X_test)\n",
    "\n",
    "# Model Accuracy: how often is the classifier correct\n",
    "print(\"Accuracy:\",metrics.accuracy_score(y_test, y_pred))\n",
    "# Model Precision and Recall: what percentage of positive tuples are labeled as such? \n",
    "print(\"Precision:\",metrics.precision_score(y_test, y_pred, average='weighted')) \n",
    "print(\"Recall:\",metrics.recall_score(y_test, y_pred, average='weighted'))"
   ]
  },
  {
   "cell_type": "code",
   "execution_count": 108,
   "metadata": {},
   "outputs": [
    {
     "name": "stdout",
     "output_type": "stream",
     "text": [
      "y_test shape: torch.Size([293, 1])\n",
      "y_pred shape: torch.Size([293, 1])\n",
      "y_test unique labels: {np.float32(0.0), np.float32(1.0), np.float32(2.0), np.float32(3.0), np.float32(4.0)}\n",
      "y_pred unique labels: {np.float32(0.0), np.float32(1.0), np.float32(2.0), np.float32(3.0), np.float32(4.0)}\n",
      "y_test length: 293\n",
      "y_pred length: 293\n",
      "Final MSE: 0.006825938355177641\n"
     ]
    }
   ],
   "source": [
    "# Ensure predictions are 1D\n",
    "y_pred = np.array(y_pred).flatten()  \n",
    "y_test = np.array(y_test).flatten()\n",
    "\n",
    "# Convert data to tensors\n",
    "y_test = torch.tensor(y_test, dtype=torch.float32).reshape(-1, 1)\n",
    "y_pred = torch.tensor(y_pred, dtype=torch.float32).reshape(-1, 1)\n",
    "\n",
    "# Debugging, data shapes and unique labels\n",
    "print(f\"y_test shape: {y_test.shape}\")\n",
    "print(f\"y_pred shape: {y_pred.shape}\")\n",
    "print(f\"y_test unique labels: {set(y_test.numpy().flatten())}\")\n",
    "print(f\"y_pred unique labels: {set(y_pred.numpy().flatten())}\")\n",
    "print(f\"y_test length: {len(y_test)}\")\n",
    "print(f\"y_pred length: {len(y_pred)}\")\n",
    "\n",
    "history_SVM = []  ## list not needed as model only produces one MSE value\n",
    "# define loss function\n",
    "loss_fn = nn.MSELoss()\n",
    "mse = loss_fn(y_pred, y_test).item()\n",
    "#mse_train = loss_fn(y_, y_test)\n",
    "mse = float(mse)\n",
    "history_SVM.append(mse) ##\n",
    "\n",
    "print('Final MSE:', history_SVM[-1])"
   ]
  },
  {
   "cell_type": "code",
   "execution_count": 109,
   "metadata": {},
   "outputs": [
    {
     "data": {
      "image/png": "[encoded data removed]",
      "text/plain": [
       "<Figure size 600x500 with 1 Axes>"
      ]
     },
     "metadata": {},
     "output_type": "display_data"
    }
   ],
   "source": [
    "# visualizing the outputs\n",
    "plt.figure(figsize=(6, 5))\n",
    "plt.scatter([\"SVM\"], [history_SVM], color='red')\n",
    "\n",
    "plt.plot(history_SVM)\n",
    "plt.title('SVM - Mean Square Error')\n",
    "plt.xlabel(\"Epoch\")\n",
    "plt.ylabel(\"\")\n",
    "plt.grid(True)\n",
    "plt.legend([\"SVM\"])\n",
    "plt.show()"
   ]
  },
  {
   "cell_type": "markdown",
   "metadata": {},
   "source": [
    "### Random Forest (Max Depth = 10)"
   ]
  },
  {
   "cell_type": "code",
   "execution_count": 160,
   "metadata": {},
   "outputs": [
    {
     "name": "stdout",
     "output_type": "stream",
     "text": [
      "Accuracy: 0.8294\n",
      "Confusion Matrix:\n",
      " [[  0   0   0   0   9]\n",
      " [  0   0   0   0  25]\n",
      " [  0   0 110   2   8]\n",
      " [  0   0   6   2   0]\n",
      " [  0   0   0   0 131]]\n"
     ]
    },
    {
     "data": {
      "text/plain": [
       "'train_set = set(map(tuple, X_train))\\ntest_set = set(map(tuple, X_test))\\noverlap = train_set & test_set  # Intersection of train and test sets\\n\\nprint(f\"Number of duplicate rows between train & test: {len(overlap)}\")'"
      ]
     },
     "execution_count": 160,
     "metadata": {},
     "output_type": "execute_result"
    }
   ],
   "source": [
    "X = data[['precipitation','temp_max','temp_min','wind']].values # Features\n",
    "y = data['target'].values # Target variable\n",
    "\n",
    "# Train, test, split\n",
    "X_train, X_test, y_train, y_test = train_test_split(X, y, test_size=0.2, random_state=42)\n",
    "\n",
    "# Debugging statements\n",
    "\"\"\"print(\"First few rows of X_train:\\n\", X_train[:5])\n",
    "print(\"First few rows of X_test:\\n\", X_test[:5])\n",
    "print(\"First few labels of y_train:\", y_train[:5])\n",
    "print(\"First few labels of y_test:\", y_test[:5])\"\"\"\n",
    "\n",
    "# 🔹 Train Random Forest Classifier\n",
    "clf = RandomForestClassifier(max_depth=5, random_state=42)\n",
    "clf.fit(X_train, y_train)\n",
    "\n",
    "# 🔹 Make predictions\n",
    "y_pred = clf.predict(X_test)\n",
    "\n",
    "# 🔹 Evaluate the model\n",
    "accuracy = metrics.accuracy_score(y_test, y_pred)\n",
    "print(f\"Accuracy: {accuracy:.4f}\")\n",
    "\n",
    "# Optional: Display confusion matrix\n",
    "conf_matrix = metrics.confusion_matrix(y_test, y_pred)\n",
    "print(\"Confusion Matrix:\\n\", conf_matrix)\n",
    "\n",
    "# print(\"Correlation matrix:\\n\", pd.DataFrame(X, columns=['precipitation', 'temp_max', 'temp_min', 'wind']).corr())\n",
    "\n",
    "\"\"\"train_set = set(map(tuple, X_train))\n",
    "test_set = set(map(tuple, X_test))\n",
    "overlap = train_set & test_set  # Intersection of train and test sets\n",
    "\n",
    "print(f\"Number of duplicate rows between train & test: {len(overlap)}\")\"\"\"\n"
   ]
  },
  {
   "cell_type": "code",
   "execution_count": 162,
   "metadata": {},
   "outputs": [
    {
     "name": "stdout",
     "output_type": "stream",
     "text": [
      "Final MSE: 1.3959044218063354\n"
     ]
    }
   ],
   "source": [
    "\"\"\"# Ensure predictions are 1D\n",
    "y_pred = np.array(y_pred)  \n",
    "y_test = np.array(y_test)\"\"\"\n",
    "\n",
    "# Convert data to tensors\n",
    "y_test = torch.tensor(y_test, dtype=torch.float32).reshape(-1, 1)\n",
    "y_pred = torch.tensor(y_pred, dtype=torch.float32).reshape(-1, 1)\n",
    "\n",
    "# Debugging, dataset sizes and unique labels\n",
    "\"\"\"print(f\"y_test shape: {y_test.shape}\")\n",
    "print(f\"y_pred shape: {y_pred.shape}\")\n",
    "print(f\"y_test unique labels: {set(y_test.numpy().flatten())}\")\n",
    "print(f\"y_pred unique labels: {set(y_pred.numpy().flatten())}\")\n",
    "print(f\"y_test length: {len(y_test)}\")\n",
    "print(f\"y_pred length: {len(y_pred)}\")\"\"\"\n",
    "\n",
    "history_RForest = []  \n",
    "# define loss function\n",
    "loss_fn = nn.MSELoss()\n",
    "mse = loss_fn(y_pred, y_test).item()\n",
    "#mse_train = loss_fn(y_, y_test)\n",
    "mse = float(mse)\n",
    "history_RForest.append(mse) ##\n",
    "\n",
    "print('Final MSE:', history_RForest[-1])"
   ]
  },
  {
   "cell_type": "code",
   "execution_count": 163,
   "metadata": {},
   "outputs": [
    {
     "data": {
      "image/png": "[encoded data removed]",
      "text/plain": [
       "<Figure size 600x500 with 1 Axes>"
      ]
     },
     "metadata": {},
     "output_type": "display_data"
    }
   ],
   "source": [
    "# visualizing the outputs\n",
    "plt.figure(figsize=(6, 5))\n",
    "plt.scatter([\"Random Forest\"], [history_RForest], color='green')\n",
    "\n",
    "plt.plot(history_RForest)\n",
    "plt.title('Random forest - Mean Square Error')\n",
    "plt.xlabel(\"Epoch\")\n",
    "plt.ylabel(\"MSE\")\n",
    "plt.grid(True)\n",
    "plt.legend([\"Random Forest\"])\n",
    "plt.show()"
   ]
  },
  {
   "cell_type": "markdown",
   "metadata": {},
   "source": [
    "## Task II\n",
    "### Visualization of MSE"
   ]
  },
  {
   "cell_type": "code",
   "execution_count": 254,
   "metadata": {},
   "outputs": [
    {
     "data": {
      "image/png": "[encoded data removed]",
      "text/plain": [
       "<Figure size 1000x500 with 1 Axes>"
      ]
     },
     "metadata": {},
     "output_type": "display_data"
    }
   ],
   "source": [
    "# Visualizing\n",
    "epochs = list(range(len(history_linReg)))\n",
    "\n",
    "# Visualizing\n",
    "plt.figure(figsize=(10, 5))\n",
    "plt.plot(epochs, history_linReg, color='blue', label=\"Linear Regression\")\n",
    "plt.scatter([1], [history_SVM[0]], color='red', label=\"SVM\")\n",
    "plt.scatter([1], [history_RForest[0]], color='green', label=\"Random Forest\")\n",
    "\n",
    "plt.title('Mean Square Error')\n",
    "plt.xlabel(\"Epoch\")\n",
    "plt.ylabel(\"MSE\")\n",
    "plt.grid(True)\n",
    "plt.legend(loc= 'upper right')\n",
    "\n",
    "plt.savefig('MSE_A.3.2_Task-II.png')\n",
    "plt.show()\n",
    "\n",
    "\n",
    "\n",
    "\n"
   ]
  }
 ],
 "metadata": {
  "kernelspec": {
   "display_name": ".venv",
   "language": "python",
   "name": "python3"
  },
  "language_info": {
   "codemirror_mode": {
    "name": "ipython",
    "version": 3
   },
   "file_extension": ".py",
   "mimetype": "text/x-python",
   "name": "python",
   "nbconvert_exporter": "python",
   "pygments_lexer": "ipython3",
   "version": "3.11.4"
  }
 },
 "nbformat": 4,
 "nbformat_minor": 2
}
