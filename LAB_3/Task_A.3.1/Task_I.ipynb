{
 "cells": [
  {
   "cell_type": "markdown",
   "metadata": {},
   "source": [
    "# TASK I-\n",
    "    Use linear regression and SVM (with Linear kernel) and Random Forest(with a maximum depth of your choice) algorithms \n",
    "    to classify the hand-written numbers in 10 output classes (0-9) (5 pts-Mandatory)"
   ]
  },
  {
   "cell_type": "code",
   "execution_count": 52,
   "metadata": {},
   "outputs": [],
   "source": [
    "#importing libraries\n",
    "\n",
    "import torch\n",
    "import torch.nn as nn\n",
    "import torch.optim as optim\n",
    "import torchvision.transforms as transforms\n",
    "from torchvision import datasets\n",
    "from torch.utils.data import DataLoader\n",
    "\n",
    "#from sklearn import datasets \n",
    "# # Import train_test_split function\n",
    "from sklearn.model_selection import train_test_split  \n",
    "#Import scikit-learn dataset library\n",
    "from sklearn import svm #Import svm model\n",
    "from sklearn import metrics #Import scikit-learn metrics module for accuracy calculation\n",
    "from sklearn.ensemble import RandomForestClassifier\n",
    "from sklearn.datasets import make_classification\n",
    "\n",
    "import matplotlib.pyplot as plt\n",
    "\n",
    "import numpy as np\n",
    "\n"
   ]
  },
  {
   "cell_type": "markdown",
   "metadata": {},
   "source": [
    "### Linear Regression\n"
   ]
  },
  {
   "cell_type": "code",
   "execution_count": 46,
   "metadata": {},
   "outputs": [],
   "source": [
    "#Section I-importing data load the dataset, split into input (X) and output (y) variables. \n",
    "# loading training data\n",
    "train_dataset = datasets.MNIST(root='./data', \n",
    "                               train=True, \n",
    "                               transform=transforms.ToTensor(),\n",
    "                               download=True)\n",
    "# loading test data, IGNORING UNTIL LATER\n",
    "test_dataset = datasets.MNIST(root='./data', \n",
    "                              train=False, \n",
    "                              transform=transforms.ToTensor())\n",
    "###X = dataset[1:,0:8] #getting the 8 first columns as input.The reason for \"1\"instead of \"0\" is todiscard the headings\n",
    "###y = dataset[1:,8] #getting the last column as output. The reason for \"1\"instead of \"0\" is todiscard the headings\n",
    "X = [train_dataset[i][0].flatten().tolist() for i in range(len(train_dataset))]  # Convert images to lists of 784 features\n",
    "y = [train_dataset[i][1] for i in range(len(train_dataset))]  # Get the labels\n",
    "X = torch.tensor(X, dtype=torch.float32)\n",
    "y = torch.tensor(y, dtype=torch.float32).reshape(-1, 1)  \n",
    "#Splitting into train and validation datasets with 67% trainset and 33% validation set\n",
    "X_train, X_test, y_train, y_test = train_test_split(X, y, test_size=0.33)"
   ]
  },
  {
   "cell_type": "code",
   "execution_count": 47,
   "metadata": {},
   "outputs": [
    {
     "name": "stdout",
     "output_type": "stream",
     "text": [
      "Sequential(\n",
      "  (0): Linear(in_features=784, out_features=10, bias=True)\n",
      ")\n"
     ]
    }
   ],
   "source": [
    "#Section II-defining the model:  linear regression model with 2 layers, input and output\n",
    "model = nn.Sequential(\n",
    "  nn.Linear(784, 10) # 784 input features (28x28 pixels flattened) → 10 output classes (digits 0-9)\n",
    "  #,nn.Sigmoid()\n",
    ")\n",
    "#printing model layers and specifications\n",
    "print(model)"
   ]
  },
  {
   "cell_type": "code",
   "execution_count": 48,
   "metadata": {},
   "outputs": [
    {
     "name": "stderr",
     "output_type": "stream",
     "text": [
      "c:\\Users\\ellin\\OneDrive\\Documents\\MSc_IoT_MAU\\DA642E-AI-and-Data-Management-for-IOT\\.venv\\Lib\\site-packages\\torch\\nn\\modules\\loss.py:610: UserWarning: Using a target size (torch.Size([32, 1])) that is different to the input size (torch.Size([32, 10])). This will likely lead to incorrect results due to broadcasting. Please ensure they have the same size.\n",
      "  return F.mse_loss(input, target, reduction=self.reduction)\n",
      "c:\\Users\\ellin\\OneDrive\\Documents\\MSc_IoT_MAU\\DA642E-AI-and-Data-Management-for-IOT\\.venv\\Lib\\site-packages\\torch\\nn\\modules\\loss.py:610: UserWarning: Using a target size (torch.Size([8, 1])) that is different to the input size (torch.Size([8, 10])). This will likely lead to incorrect results due to broadcasting. Please ensure they have the same size.\n",
      "  return F.mse_loss(input, target, reduction=self.reduction)\n",
      "c:\\Users\\ellin\\OneDrive\\Documents\\MSc_IoT_MAU\\DA642E-AI-and-Data-Management-for-IOT\\.venv\\Lib\\site-packages\\torch\\nn\\modules\\loss.py:610: UserWarning: Using a target size (torch.Size([19800, 1])) that is different to the input size (torch.Size([19800, 10])). This will likely lead to incorrect results due to broadcasting. Please ensure they have the same size.\n",
      "  return F.mse_loss(input, target, reduction=self.reduction)\n"
     ]
    },
    {
     "name": "stdout",
     "output_type": "stream",
     "text": [
      "Finished epoch 0, latest MSE 3.8196356296539307\n",
      "Finished epoch 1, latest MSE 3.5607283115386963\n",
      "Finished epoch 2, latest MSE 3.444693088531494\n",
      "Finished epoch 3, latest MSE 3.373958110809326\n",
      "Finished epoch 4, latest MSE 3.327547073364258\n",
      "Finished epoch 5, latest MSE 3.296523094177246\n",
      "Finished epoch 6, latest MSE 3.2757349014282227\n",
      "Finished epoch 7, latest MSE 3.2618649005889893\n",
      "Finished epoch 8, latest MSE 3.2526865005493164\n",
      "Finished epoch 9, latest MSE 3.2466883659362793\n"
     ]
    }
   ],
   "source": [
    "#Secion III-training the model\n",
    "n_epochs = 10\n",
    "batch_size = 32\n",
    "history = []\n",
    "# define loss function\n",
    "loss_fn = nn.MSELoss()\n",
    "# define optimizer with a spicific learning rate\n",
    "optimizer = optim.Adam(model.parameters(), lr=0.001)\n",
    "for epoch in range(n_epochs):\n",
    "  for i in range(0, len(X_train), batch_size):\n",
    "        # take a batch\n",
    "        Xbatch = X_train[i:i+batch_size]\n",
    "        ybatch = y_train[i:i+batch_size]\n",
    "        # forward pass\n",
    "        y_pred =model(Xbatch) #  torch.max(model(Xbatch), 1)\n",
    "        loss = loss_fn(y_pred, ybatch)\n",
    "        # backward pass\n",
    "        optimizer.zero_grad()\n",
    "        loss.backward()\n",
    "        # update weights\n",
    "        optimizer.step()\n",
    "\n",
    "  model.eval()\n",
    "  y_pred = model(X_test)\n",
    "  mse = loss_fn(y_pred, y_test)\n",
    "  #mse_train = loss_fn(y_, y_test)\n",
    "  mse = float(mse)\n",
    "  history.append(mse)\n",
    "  print(f'Finished epoch {epoch}, latest MSE {mse}')"
   ]
  },
  {
   "cell_type": "code",
   "execution_count": 49,
   "metadata": {},
   "outputs": [
    {
     "name": "stdout",
     "output_type": "stream",
     "text": [
      "Accuracy 0.2257699966430664\n"
     ]
    }
   ],
   "source": [
    "#Section IV-evaluating the model\n",
    "# compute accuracy (no_grad is optional)\n",
    "with torch.no_grad():\n",
    "    y_pred = model(X)\n",
    "accuracy = (y_pred.round() == y).float().mean()\n",
    "print(f\"Accuracy {accuracy}\")"
   ]
  },
  {
   "cell_type": "code",
   "execution_count": 50,
   "metadata": {},
   "outputs": [
    {
     "data": {
      "image/png": "[encoded data removed]",
      "text/plain": [
       "<Figure size 640x480 with 1 Axes>"
      ]
     },
     "metadata": {},
     "output_type": "display_data"
    }
   ],
   "source": [
    "#Section V-visualizing the outputs\n",
    "plt.plot(history)\n",
    "plt.title('Mean Square Error')\n",
    "plt.xlabel(\"Epoch\")\n",
    "plt.ylabel(\"\")\n",
    "plt.show()"
   ]
  },
  {
   "cell_type": "markdown",
   "metadata": {},
   "source": [
    "### SVM"
   ]
  },
  {
   "cell_type": "code",
   "execution_count": 44,
   "metadata": {},
   "outputs": [
    {
     "name": "stdout",
     "output_type": "stream",
     "text": [
      "Accuracy: 0.9340555555555555\n",
      "Precision: 0.9340390436911781\n",
      "Recall: 0.9340555555555555\n"
     ]
    }
   ],
   "source": [
    "#Load dataset \n",
    "train_dataset = datasets.MNIST(root='./data', \n",
    "                               train=True, \n",
    "                               transform=transforms.ToTensor(),\n",
    "                               download=True)\n",
    "\n",
    "X = [train_dataset[i][0].flatten().tolist() for i in range(len(train_dataset))]  # Convert images to lists of 784 features\n",
    "y = [train_dataset[i][1] for i in range(len(train_dataset))]  # Get the labels\n",
    "\"\"\"X = torch.tensor(X, dtype=torch.float32)\n",
    "y = torch.tensor(y, dtype=torch.float32).reshape(-1, 1)  \"\"\"\n",
    "\n",
    "# Split dataset into training set and test set - 70% training and 30% test \n",
    "X_train, X_test, y_train, y_test = train_test_split(X, y, test_size=0.3,random_state=109) \n",
    "\n",
    "#Create a svm Classifier with Linear Kernel\n",
    "clf = svm.SVC(kernel='linear') \n",
    "#Train the model using the training sets\n",
    "clf.fit(X_train, y_train) \n",
    "#Predict the response for test dataset \n",
    "y_pred = clf.predict(X_test)\n",
    "\n",
    "# Model Accuracy: how often is the classifier correct\n",
    "print(\"Accuracy:\",metrics.accuracy_score(y_test, y_pred))\n",
    "# Model Precision and Recall: what percentage of positive tuples are labeled as such? \n",
    "print(\"Precision:\",metrics.precision_score(y_test, y_pred, average='weighted')) \n",
    "print(\"Recall:\",metrics.recall_score(y_test, y_pred, average='weighted'))"
   ]
  },
  {
   "cell_type": "markdown",
   "metadata": {},
   "source": [
    "### Random Forest"
   ]
  },
  {
   "cell_type": "code",
   "execution_count": null,
   "metadata": {},
   "outputs": [],
   "source": [
    "#Load dataset \n",
    "train_dataset = datasets.MNIST(root='./data', \n",
    "                               train=True, \n",
    "                               transform=transforms.ToTensor(),\n",
    "                               download=True)\n",
    "\n",
    "X, y = make_classification(n_samples=1000, n_features=4,\n",
    "\n",
    "                           n_informative=2, n_redundant=0,\n",
    "\n",
    "                           random_state=0, shuffle=False)\n",
    "\n",
    "clf = RandomForestClassifier(max_depth=2, random_state=0)\n",
    "\n",
    "clf.fit(X, y)\n",
    "RandomForestClassifier(...)\n",
    "\n",
    "print(clf.predict([[0, 0, 0, 0]]))\n",
    "[1]"
   ]
  }
 ],
 "metadata": {
  "kernelspec": {
   "display_name": ".venv",
   "language": "python",
   "name": "python3"
  },
  "language_info": {
   "codemirror_mode": {
    "name": "ipython",
    "version": 3
   },
   "file_extension": ".py",
   "mimetype": "text/x-python",
   "name": "python",
   "nbconvert_exporter": "python",
   "pygments_lexer": "ipython3",
   "version": "3.11.4"
  }
 },
 "nbformat": 4,
 "nbformat_minor": 2
}
