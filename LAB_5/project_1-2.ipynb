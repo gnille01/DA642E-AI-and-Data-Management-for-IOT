{
 "cells": [
  {
   "cell_type": "markdown",
   "metadata": {},
   "source": [
    "# Project 1\n",
    "## Machine Learning without Mllib Pipeline"
   ]
  },
  {
   "cell_type": "markdown",
   "metadata": {
    "vscode": {
     "languageId": "plaintext"
    }
   },
   "source": [
    "%pip install "
   ]
  },
  {
   "cell_type": "code",
   "execution_count": 89,
   "metadata": {},
   "outputs": [],
   "source": [
    "import findspark\n",
    "from pyspark.sql import SparkSession"
   ]
  },
  {
   "cell_type": "code",
   "execution_count": 90,
   "metadata": {},
   "outputs": [
    {
     "data": {
      "text/plain": [
       "'c:\\\\Users\\\\ellin\\\\Documents\\\\MSc_IoT_MAU\\\\DA642E-AI-and-Data-Management-for-IOT\\\\.venv\\\\Lib\\\\site-packages\\\\pyspark'"
      ]
     },
     "execution_count": 90,
     "metadata": {},
     "output_type": "execute_result"
    }
   ],
   "source": [
    "findspark.init()\n",
    "findspark.find()"
   ]
  },
  {
   "cell_type": "code",
   "execution_count": 91,
   "metadata": {},
   "outputs": [],
   "source": [
    "spark = SparkSession \\\n",
    "    .builder \\\n",
    "    .appName (\"Titanic Data\") \\\n",
    "    .getOrCreate()"
   ]
  },
  {
   "cell_type": "code",
   "execution_count": 92,
   "metadata": {},
   "outputs": [
    {
     "data": {
      "text/html": [
       "\n",
       "            <div>\n",
       "                <p><b>SparkSession - in-memory</b></p>\n",
       "                \n",
       "        <div>\n",
       "            <p><b>SparkContext</b></p>\n",
       "\n",
       "            <p><a href=\"http://10.209.10.80:4041\">Spark UI</a></p>\n",
       "\n",
       "            <dl>\n",
       "              <dt>Version</dt>\n",
       "                <dd><code>v3.5.5</code></dd>\n",
       "              <dt>Master</dt>\n",
       "                <dd><code>local</code></dd>\n",
       "              <dt>AppName</dt>\n",
       "                <dd><code>Titanic Data</code></dd>\n",
       "            </dl>\n",
       "        </div>\n",
       "        \n",
       "            </div>\n",
       "        "
      ],
      "text/plain": [
       "<pyspark.sql.session.SparkSession at 0x1e11a735090>"
      ]
     },
     "execution_count": 92,
     "metadata": {},
     "output_type": "execute_result"
    }
   ],
   "source": [
    "spark"
   ]
  },
  {
   "cell_type": "code",
   "execution_count": 93,
   "metadata": {},
   "outputs": [],
   "source": [
    "df = (spark.read\n",
    "        .format(\"csv\")\n",
    "        .option(\"header\",\"true\")\n",
    "        .load(\"data/train.csv\")\n",
    ")"
   ]
  },
  {
   "cell_type": "code",
   "execution_count": 94,
   "metadata": {},
   "outputs": [
    {
     "name": "stdout",
     "output_type": "stream",
     "text": [
      "+-----------+--------+------+--------------------+------+---+-----+-----+----------------+-------+-----+--------+\n",
      "|PassengerId|Survived|Pclass|                Name|   Sex|Age|SibSp|Parch|          Ticket|   Fare|Cabin|Embarked|\n",
      "+-----------+--------+------+--------------------+------+---+-----+-----+----------------+-------+-----+--------+\n",
      "|          1|       0|     3|Braund, Mr. Owen ...|  male| 22|    1|    0|       A/5 21171|   7.25| NULL|       S|\n",
      "|          2|       1|     1|Cumings, Mrs. Joh...|female| 38|    1|    0|        PC 17599|71.2833|  C85|       C|\n",
      "|          3|       1|     3|Heikkinen, Miss. ...|female| 26|    0|    0|STON/O2. 3101282|  7.925| NULL|       S|\n",
      "|          4|       1|     1|Futrelle, Mrs. Ja...|female| 35|    1|    0|          113803|   53.1| C123|       S|\n",
      "|          5|       0|     3|Allen, Mr. Willia...|  male| 35|    0|    0|          373450|   8.05| NULL|       S|\n",
      "+-----------+--------+------+--------------------+------+---+-----+-----+----------------+-------+-----+--------+\n",
      "only showing top 5 rows\n",
      "\n"
     ]
    }
   ],
   "source": [
    "df.show(5)"
   ]
  },
  {
   "cell_type": "code",
   "execution_count": 95,
   "metadata": {},
   "outputs": [],
   "source": [
    "from pyspark.sql.functions import col"
   ]
  },
  {
   "cell_type": "code",
   "execution_count": 96,
   "metadata": {},
   "outputs": [],
   "source": [
    "dataset = df.select(col('Survived').cast('float'),\n",
    "                    col('Pclass').cast('float'),\n",
    "                    col('Sex'),\n",
    "                    col('Age').cast('float'),\n",
    "                    col('Fare').cast('float'),\n",
    "                    col('Embarked')\n",
    "                    )"
   ]
  },
  {
   "cell_type": "code",
   "execution_count": 97,
   "metadata": {},
   "outputs": [
    {
     "name": "stdout",
     "output_type": "stream",
     "text": [
      "+--------+------+------+----+-------+--------+\n",
      "|Survived|Pclass|   Sex| Age|   Fare|Embarked|\n",
      "+--------+------+------+----+-------+--------+\n",
      "|     0.0|   3.0|  male|22.0|   7.25|       S|\n",
      "|     1.0|   1.0|female|38.0|71.2833|       C|\n",
      "|     1.0|   3.0|female|26.0|  7.925|       S|\n",
      "|     1.0|   1.0|female|35.0|   53.1|       S|\n",
      "+--------+------+------+----+-------+--------+\n",
      "only showing top 4 rows\n",
      "\n"
     ]
    }
   ],
   "source": [
    "dataset.show(4)"
   ]
  },
  {
   "cell_type": "code",
   "execution_count": 98,
   "metadata": {},
   "outputs": [],
   "source": [
    "from pyspark.sql.functions import isnull, when, count, col"
   ]
  },
  {
   "cell_type": "code",
   "execution_count": 99,
   "metadata": {},
   "outputs": [
    {
     "name": "stdout",
     "output_type": "stream",
     "text": [
      "+--------+------+---+---+----+--------+\n",
      "|Survived|Pclass|Sex|Age|Fare|Embarked|\n",
      "+--------+------+---+---+----+--------+\n",
      "|       0|     0|  0|177|   0|       2|\n",
      "+--------+------+---+---+----+--------+\n",
      "\n"
     ]
    }
   ],
   "source": [
    "dataset.select([count(when(isnull(c), c)).alias(c) for c in dataset.columns]).show()"
   ]
  },
  {
   "cell_type": "code",
   "execution_count": 100,
   "metadata": {},
   "outputs": [],
   "source": [
    "dataset = dataset.replace('?', None)\\\n",
    "            .dropna(how='any')"
   ]
  },
  {
   "cell_type": "code",
   "execution_count": 101,
   "metadata": {},
   "outputs": [
    {
     "name": "stdout",
     "output_type": "stream",
     "text": [
      "+--------+------+---+---+----+--------+\n",
      "|Survived|Pclass|Sex|Age|Fare|Embarked|\n",
      "+--------+------+---+---+----+--------+\n",
      "|       0|     0|  0|  0|   0|       0|\n",
      "+--------+------+---+---+----+--------+\n",
      "\n"
     ]
    }
   ],
   "source": [
    "dataset.select([count(when(isnull(c), c)).alias(c) for c in dataset.columns]).show()"
   ]
  },
  {
   "cell_type": "code",
   "execution_count": 102,
   "metadata": {},
   "outputs": [],
   "source": [
    "import numpy as np\n",
    "from pyspark.ml.feature import StringIndexer"
   ]
  },
  {
   "cell_type": "code",
   "execution_count": 103,
   "metadata": {},
   "outputs": [],
   "source": [
    "dataset = StringIndexer(\n",
    "    inputCol='Sex',\n",
    "    outputCol='Gender',\n",
    "    handleInvalid='keep').fit(dataset).transform(dataset)"
   ]
  },
  {
   "cell_type": "code",
   "execution_count": 104,
   "metadata": {},
   "outputs": [],
   "source": [
    "dataset = StringIndexer(\n",
    "    inputCol='Embarked',\n",
    "    outputCol='Boarded',\n",
    "    handleInvalid='keep').fit(dataset).transform(dataset)"
   ]
  },
  {
   "cell_type": "code",
   "execution_count": 105,
   "metadata": {},
   "outputs": [
    {
     "name": "stdout",
     "output_type": "stream",
     "text": [
      "+--------+------+------+----+-------+--------+------+-------+\n",
      "|Survived|Pclass|   Sex| Age|   Fare|Embarked|Gender|Boarded|\n",
      "+--------+------+------+----+-------+--------+------+-------+\n",
      "|     0.0|   3.0|  male|22.0|   7.25|       S|   0.0|    0.0|\n",
      "|     1.0|   1.0|female|38.0|71.2833|       C|   1.0|    1.0|\n",
      "+--------+------+------+----+-------+--------+------+-------+\n",
      "only showing top 2 rows\n",
      "\n"
     ]
    }
   ],
   "source": [
    "dataset.show(2)"
   ]
  },
  {
   "cell_type": "code",
   "execution_count": 106,
   "metadata": {},
   "outputs": [],
   "source": [
    "# Drop unnecessary columns\n",
    "dataset = dataset.drop('Sex')\n",
    "dataset = dataset.drop('Embarked')"
   ]
  },
  {
   "cell_type": "code",
   "execution_count": 107,
   "metadata": {},
   "outputs": [],
   "source": [
    "# Assemble features with VectorAssembler\n",
    "from pyspark.ml.feature import VectorAssembler"
   ]
  },
  {
   "cell_type": "code",
   "execution_count": 108,
   "metadata": {},
   "outputs": [],
   "source": [
    "require_featured = ['Pclass', 'Age', 'Fare', 'Gender', 'Boarded']\n",
    "assembler = VectorAssembler(inputCols=require_featured, outputCol='features')\n",
    "transformed_data = assembler.transform(dataset)"
   ]
  },
  {
   "cell_type": "code",
   "execution_count": 109,
   "metadata": {},
   "outputs": [
    {
     "name": "stdout",
     "output_type": "stream",
     "text": [
      "+--------+------+----+-------+------+-------+--------------------+\n",
      "|Survived|Pclass| Age|   Fare|Gender|Boarded|            features|\n",
      "+--------+------+----+-------+------+-------+--------------------+\n",
      "|     0.0|   3.0|22.0|   7.25|   0.0|    0.0|[3.0,22.0,7.25,0....|\n",
      "|     1.0|   1.0|38.0|71.2833|   1.0|    1.0|[1.0,38.0,71.2833...|\n",
      "|     1.0|   3.0|26.0|  7.925|   1.0|    0.0|[3.0,26.0,7.92500...|\n",
      "|     1.0|   1.0|35.0|   53.1|   1.0|    0.0|[1.0,35.0,53.0999...|\n",
      "|     0.0|   3.0|35.0|   8.05|   0.0|    0.0|[3.0,35.0,8.05000...|\n",
      "+--------+------+----+-------+------+-------+--------------------+\n",
      "only showing top 5 rows\n",
      "\n"
     ]
    }
   ],
   "source": [
    "transformed_data.show(5)"
   ]
  },
  {
   "cell_type": "code",
   "execution_count": 110,
   "metadata": {},
   "outputs": [
    {
     "name": "stdout",
     "output_type": "stream",
     "text": [
      "N training samples: 569\n",
      "N testing samples: 143\n"
     ]
    }
   ],
   "source": [
    "# split train adn test\n",
    "(training_data, test_data) = transformed_data.randomSplit([0.8,0.2])\n",
    "print(\"N training samples: \" + str(training_data.count()))\n",
    "print(\"N testing samples: \" + str(test_data.count()))"
   ]
  },
  {
   "cell_type": "code",
   "execution_count": 111,
   "metadata": {},
   "outputs": [],
   "source": [
    "from pyspark.ml.classification import RandomForestClassifier"
   ]
  },
  {
   "cell_type": "code",
   "execution_count": 112,
   "metadata": {},
   "outputs": [],
   "source": [
    "rf = RandomForestClassifier(labelCol='Survived',\n",
    "                            featuresCol='features',\n",
    "                            maxDepth=5)"
   ]
  },
  {
   "cell_type": "code",
   "execution_count": 113,
   "metadata": {},
   "outputs": [],
   "source": [
    "model = rf.fit(training_data)"
   ]
  },
  {
   "cell_type": "code",
   "execution_count": 114,
   "metadata": {},
   "outputs": [],
   "source": [
    "predictions = model.transform(test_data)"
   ]
  },
  {
   "cell_type": "code",
   "execution_count": 115,
   "metadata": {},
   "outputs": [],
   "source": [
    "# Evaluation\n",
    "from pyspark.ml.evaluation import MulticlassClassificationEvaluator"
   ]
  },
  {
   "cell_type": "code",
   "execution_count": 116,
   "metadata": {},
   "outputs": [],
   "source": [
    "evaluator = MulticlassClassificationEvaluator(\n",
    "    labelCol='Survived',\n",
    "    predictionCol='prediction',\n",
    "    metricName='accuracy')"
   ]
  },
  {
   "cell_type": "code",
   "execution_count": 117,
   "metadata": {},
   "outputs": [
    {
     "name": "stdout",
     "output_type": "stream",
     "text": [
      "Training Accuracy=  0.7622377622377622\n"
     ]
    }
   ],
   "source": [
    "accuracy = evaluator.evaluate(predictions)\n",
    "print('Training Accuracy= ', accuracy)"
   ]
  },
  {
   "cell_type": "markdown",
   "metadata": {},
   "source": [
    "# Project 2\n",
    "## Machine Learning Project with Mllib Pipeline"
   ]
  },
  {
   "cell_type": "code",
   "execution_count": 162,
   "metadata": {},
   "outputs": [],
   "source": [
    "# setup pyspark env\n",
    "\n",
    "# download JVM\n",
    "## %pip apt-get install openjdk-8-jdk-headless -qq > /dev/null"
   ]
  },
  {
   "cell_type": "code",
   "execution_count": 175,
   "metadata": {},
   "outputs": [],
   "source": [
    "# libraries\n",
    "\n",
    "from pyspark.sql import SparkSession\n",
    "import findspark"
   ]
  },
  {
   "cell_type": "code",
   "execution_count": 176,
   "metadata": {},
   "outputs": [
    {
     "data": {
      "text/plain": [
       "'c:\\\\Users\\\\ellin\\\\Documents\\\\MSc_IoT_MAU\\\\DA642E-AI-and-Data-Management-for-IOT\\\\.venv\\\\Lib\\\\site-packages\\\\pyspark'"
      ]
     },
     "execution_count": 176,
     "metadata": {},
     "output_type": "execute_result"
    }
   ],
   "source": [
    "# Cell for debugging \n",
    "findspark.init()\n",
    "findspark.find()"
   ]
  },
  {
   "cell_type": "markdown",
   "metadata": {},
   "source": [
    "set path_to_spark_archive to sparks PATH\n",
    "path_to_spark_archive = 'c:/users/ellin/appdata/local/programs/python/python311/lib/site-packages'\n",
    "\n",
    "#!tar xf \"{path_tospark_archive}\"\n",
    "\n",
    "import tarfile\n",
    "with tarfile.open(path_to_spark_archive, \"r:*\") as tar:\n",
    "    tar.extractall(path=path_to_spark_archive)"
   ]
  },
  {
   "cell_type": "code",
   "execution_count": 177,
   "metadata": {},
   "outputs": [
    {
     "data": {
      "text/html": [
       "\n",
       "            <div>\n",
       "                <p><b>SparkSession - in-memory</b></p>\n",
       "                \n",
       "        <div>\n",
       "            <p><b>SparkContext</b></p>\n",
       "\n",
       "            <p><a href=\"http://10.209.10.80:4041\">Spark UI</a></p>\n",
       "\n",
       "            <dl>\n",
       "              <dt>Version</dt>\n",
       "                <dd><code>v3.5.5</code></dd>\n",
       "              <dt>Master</dt>\n",
       "                <dd><code>local</code></dd>\n",
       "              <dt>AppName</dt>\n",
       "                <dd><code>Titanic Data</code></dd>\n",
       "            </dl>\n",
       "        </div>\n",
       "        \n",
       "            </div>\n",
       "        "
      ],
      "text/plain": [
       "<pyspark.sql.session.SparkSession at 0x1e11a735090>"
      ]
     },
     "execution_count": 177,
     "metadata": {},
     "output_type": "execute_result"
    }
   ],
   "source": [
    "spark = SparkSession.builder \\\n",
    "    .master(\"local\") \\\n",
    "    .appName (\"Titanic Data\") \\\n",
    "    .getOrCreate()\n",
    "\n",
    "spark"
   ]
  },
  {
   "cell_type": "code",
   "execution_count": 178,
   "metadata": {},
   "outputs": [
    {
     "name": "stdout",
     "output_type": "stream",
     "text": [
      "+-----------+--------+------+--------------------+------+---+-----+-----+----------------+-------+-----+--------+\n",
      "|PassengerId|Survived|Pclass|                Name|   Sex|Age|SibSp|Parch|          Ticket|   Fare|Cabin|Embarked|\n",
      "+-----------+--------+------+--------------------+------+---+-----+-----+----------------+-------+-----+--------+\n",
      "|          1|       0|     3|Braund, Mr. Owen ...|  male| 22|    1|    0|       A/5 21171|   7.25| NULL|       S|\n",
      "|          2|       1|     1|Cumings, Mrs. Joh...|female| 38|    1|    0|        PC 17599|71.2833|  C85|       C|\n",
      "|          3|       1|     3|Heikkinen, Miss. ...|female| 26|    0|    0|STON/O2. 3101282|  7.925| NULL|       S|\n",
      "+-----------+--------+------+--------------------+------+---+-----+-----+----------------+-------+-----+--------+\n",
      "only showing top 3 rows\n",
      "\n"
     ]
    }
   ],
   "source": [
    "df = (spark.read\n",
    "        .format(\"csv\")\n",
    "        .option(\"header\", \"true\")\n",
    "        .load(\"data/train.csv\"))\n",
    "\n",
    "df.show(3)"
   ]
  },
  {
   "cell_type": "code",
   "execution_count": 179,
   "metadata": {},
   "outputs": [],
   "source": [
    "from pyspark.sql import functions as F\n",
    "from pyspark.sql import types as T\n",
    "\n",
    "from pyspark.ml.feature import StringIndexer, OneHotEncoder\n",
    "\n",
    "from pyspark.ml.feature import VectorAssembler\n",
    "\n",
    "from pyspark.ml.classification import RandomForestClassifier"
   ]
  },
  {
   "cell_type": "code",
   "execution_count": 180,
   "metadata": {},
   "outputs": [],
   "source": [
    "from pyspark.ml import Pipeline"
   ]
  },
  {
   "cell_type": "code",
   "execution_count": 181,
   "metadata": {},
   "outputs": [
    {
     "name": "stdout",
     "output_type": "stream",
     "text": [
      "N of train samples: 703\n",
      "N of test samples: 188\n"
     ]
    }
   ],
   "source": [
    "(train_df, test_df) = df.randomSplit([0.8, 0.2], 11)\n",
    "print(\"N of train samples: \" + str(train_df.count()))\n",
    "print(\"N of test samples: \" + str(test_df.count()))"
   ]
  },
  {
   "cell_type": "code",
   "execution_count": 186,
   "metadata": {},
   "outputs": [],
   "source": [
    "Sex_indexer = StringIndexer(inputCol=\"Sex\", outputCol=\"Gender\")\n",
    "Embarked_indexer = StringIndexer(inputCol=\"Embarked\", outputCol=\"Boarded\")\n",
    "\n",
    "inputCols = ['Pclass', 'Age', 'Fare', 'Gender', 'Boarded']\n",
    "outputCol=\"features\"\n",
    "\n",
    "from pyspark.sql.functions import col\n",
    "\n",
    "# Convert to numeric types\n",
    "train_df = train_df.withColumn(\"Pclass\", col(\"Pclass\").cast(\"double\")) \\\n",
    "                   .withColumn(\"Age\", col(\"Age\").cast(\"double\")) \\\n",
    "                   .withColumn(\"Fare\", col(\"Fare\").cast(\"double\"))\n",
    "\n",
    "test_df = test_df.withColumn(\"Pclass\", col(\"Pclass\").cast(\"double\")) \\\n",
    "                 .withColumn(\"Age\", col(\"Age\").cast(\"double\")) \\\n",
    "                 .withColumn(\"Fare\", col(\"Fare\").cast(\"double\"))\n",
    "\n",
    "# Fill missing values\n",
    "train_df = train_df.fillna({\"Age\": train_df.select(\"Age\").agg({\"Age\": \"mean\"}).collect()[0][0],\n",
    "                            \"Fare\": train_df.select(\"Fare\").agg({\"Fare\": \"mean\"}).collect()[0][0],\n",
    "                            \"Embarked\": \"missing\",\n",
    "                            \"Sex\": \"missing\"})\n",
    "\n",
    "test_df = test_df.fillna({\"Age\": test_df.select(\"Age\").agg({\"Age\": \"mean\"}).collect()[0][0],\n",
    "                          \"Fare\": test_df.select(\"Fare\").agg({\"Fare\": \"mean\"}).collect()[0][0],\n",
    "                          \"Embarked\": \"missing\",\n",
    "                          \"Sex\": \"missing\"})\n",
    "\n",
    "\n",
    "vector_assembler = VectorAssembler(inputCols=inputCols, outputCol=outputCol)\n",
    "\n",
    "dt_model = RandomForestClassifier(labelCol=\"Survived\", featuresCol=\"features\")\n",
    "\n"
   ]
  },
  {
   "cell_type": "code",
   "execution_count": 187,
   "metadata": {},
   "outputs": [
    {
     "name": "stdout",
     "output_type": "stream",
     "text": [
      "root\n",
      " |-- PassengerId: string (nullable = true)\n",
      " |-- Survived: string (nullable = true)\n",
      " |-- Pclass: double (nullable = true)\n",
      " |-- Name: string (nullable = true)\n",
      " |-- Sex: string (nullable = false)\n",
      " |-- Age: double (nullable = false)\n",
      " |-- SibSp: string (nullable = true)\n",
      " |-- Parch: string (nullable = true)\n",
      " |-- Ticket: string (nullable = true)\n",
      " |-- Fare: double (nullable = false)\n",
      " |-- Cabin: string (nullable = true)\n",
      " |-- Embarked: string (nullable = false)\n",
      "\n",
      "+------+--------+\n",
      "|   Sex|Embarked|\n",
      "+------+--------+\n",
      "|female| missing|\n",
      "|  male|       C|\n",
      "|  male|       S|\n",
      "|female|       Q|\n",
      "|female|       S|\n",
      "|  male|       Q|\n",
      "|female|       C|\n",
      "+------+--------+\n",
      "\n"
     ]
    }
   ],
   "source": [
    "#train_df.select(\"Gender\", \"Boarded\").show(5)\n",
    "train_df.printSchema()\n",
    "train_df.select(\"Sex\", \"Embarked\").distinct().show()\n"
   ]
  },
  {
   "cell_type": "code",
   "execution_count": 188,
   "metadata": {},
   "outputs": [
    {
     "name": "stdout",
     "output_type": "stream",
     "text": [
      "root\n",
      " |-- PassengerId: string (nullable = true)\n",
      " |-- Survived: string (nullable = true)\n",
      " |-- Pclass: double (nullable = true)\n",
      " |-- Name: string (nullable = true)\n",
      " |-- Sex: string (nullable = false)\n",
      " |-- Age: double (nullable = false)\n",
      " |-- SibSp: string (nullable = true)\n",
      " |-- Parch: string (nullable = true)\n",
      " |-- Ticket: string (nullable = true)\n",
      " |-- Fare: double (nullable = false)\n",
      " |-- Cabin: string (nullable = true)\n",
      " |-- Embarked: string (nullable = false)\n",
      " |-- Gender: double (nullable = false)\n",
      " |-- Boarded: double (nullable = false)\n",
      "\n",
      "+------+------+--------+-------+\n",
      "|   Sex|Gender|Embarked|Boarded|\n",
      "+------+------+--------+-------+\n",
      "|  male|   0.0|       S|    0.0|\n",
      "|female|   1.0|       C|    1.0|\n",
      "|  male|   0.0|       S|    0.0|\n",
      "|female|   1.0|       S|    0.0|\n",
      "|  male|   0.0|       S|    0.0|\n",
      "+------+------+--------+-------+\n",
      "only showing top 5 rows\n",
      "\n"
     ]
    }
   ],
   "source": [
    "Sex_indexer = StringIndexer(inputCol=\"Sex\", outputCol=\"Gender\")\n",
    "Embarked_indexer = StringIndexer(inputCol=\"Embarked\", outputCol=\"Boarded\")\n",
    "\n",
    "indexed_df = Sex_indexer.fit(train_df).transform(train_df)\n",
    "indexed_df = Embarked_indexer.fit(indexed_df).transform(indexed_df)\n",
    "\n",
    "indexed_df.printSchema()\n",
    "indexed_df.select(\"Sex\", \"Gender\", \"Embarked\", \"Boarded\").show(5)\n"
   ]
  },
  {
   "cell_type": "code",
   "execution_count": 190,
   "metadata": {},
   "outputs": [],
   "source": [
    "from pyspark.sql.functions import col\n",
    "\n",
    "train_df = train_df.withColumn(\"Survived\", col(\"Survived\").cast(\"double\"))\n",
    "test_df = test_df.withColumn(\"Survived\", col(\"Survived\").cast(\"double\"))\n"
   ]
  },
  {
   "cell_type": "code",
   "execution_count": 191,
   "metadata": {},
   "outputs": [
    {
     "name": "stdout",
     "output_type": "stream",
     "text": [
      "+-----------+--------+------+-------------------------------+------+------------------+-----+-----+-------+-------+-----+--------+------+-------+--------------------------------------+---------------------------------------+----------------------------------------+----------+\n",
      "|PassengerId|Survived|Pclass|Name                           |Sex   |Age               |SibSp|Parch|Ticket |Fare   |Cabin|Embarked|Gender|Boarded|features                              |rawPrediction                          |probability                             |prediction|\n",
      "+-----------+--------+------+-------------------------------+------+------------------+-----+-----+-------+-------+-----+--------+------+-------+--------------------------------------+---------------------------------------+----------------------------------------+----------+\n",
      "|103        |0.0     |1.0   |White, Mr. Richard Frasar      |male  |21.0              |0    |1    |35281  |77.2875|D26  |S       |0.0   |0.0    |[1.0,21.0,77.2875,0.0,0.0]            |[13.253404509619994,6.746595490380007] |[0.6626702254809997,0.33732977451900037]|0.0       |\n",
      "|104        |0.0     |3.0   |Johansson, Mr. Gustaf Joel     |male  |33.0              |0    |0    |7540   |8.6542 |NULL |S       |0.0   |0.0    |[3.0,33.0,8.6542,0.0,0.0]             |[17.539763497522614,2.4602365024773833]|[0.8769881748761309,0.12301182512386918]|0.0       |\n",
      "|11         |1.0     |3.0   |Sandstrom, Miss. Marguerite Rut|female|4.0               |1    |1    |PP 9549|16.7   |G6   |S       |1.0   |0.0    |[3.0,4.0,16.7,1.0,0.0]                |[8.794663599445604,11.205336400554396] |[0.43973317997228023,0.5602668200277198]|1.0       |\n",
      "|110        |1.0     |3.0   |Moran, Miss. Bertha            |female|29.525454545454547|1    |0    |371110 |24.15  |NULL |Q       |1.0   |2.0    |[3.0,29.525454545454547,24.15,1.0,2.0]|[10.478610609286095,9.521389390713905] |[0.5239305304643047,0.47606946953569523]|0.0       |\n",
      "|111        |0.0     |1.0   |Porter, Mr. Walter Chamberlain |male  |47.0              |0    |0    |110465 |52.0   |C110 |S       |0.0   |0.0    |[1.0,47.0,52.0,0.0,0.0]               |[15.399707873008595,4.6002921269914046]|[0.7699853936504297,0.23001460634957022]|0.0       |\n",
      "+-----------+--------+------+-------------------------------+------+------------------+-----+-----+-------+-------+-----+--------+------+-------+--------------------------------------+---------------------------------------+----------------------------------------+----------+\n",
      "only showing top 5 rows\n",
      "\n"
     ]
    }
   ],
   "source": [
    "pipeline = Pipeline(stages=[Sex_indexer, Embarked_indexer, vector_assembler, dt_model])\n",
    "\n",
    "final_pipeline = pipeline.fit(train_df)\n",
    "\n",
    "test_predictions_pipeline = final_pipeline.transform(test_df)\n",
    "\n",
    "test_predictions_pipeline.show(5, truncate=False)"
   ]
  }
 ],
 "metadata": {
  "kernelspec": {
   "display_name": ".venv",
   "language": "python",
   "name": "python3"
  },
  "language_info": {
   "codemirror_mode": {
    "name": "ipython",
    "version": 3
   },
   "file_extension": ".py",
   "mimetype": "text/x-python",
   "name": "python",
   "nbconvert_exporter": "python",
   "pygments_lexer": "ipython3",
   "version": "3.11.4"
  }
 },
 "nbformat": 4,
 "nbformat_minor": 2
}
