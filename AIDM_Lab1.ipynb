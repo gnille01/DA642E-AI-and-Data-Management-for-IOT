{
  "nbformat": 4,
  "nbformat_minor": 0,
  "metadata": {
    "colab": {
      "provenance": [],
      "gpuType": "T4",
      "authorship_tag": "ABX9TyPmpUmto8Id9drlqpbRx7Db",
      "include_colab_link": true
    },
    "kernelspec": {
      "name": "python3",
      "display_name": "Python 3"
    },
    "language_info": {
      "name": "python"
    },
    "accelerator": "GPU"
  },
  "cells": [
    {
      "cell_type": "markdown",
      "metadata": {
        "id": "view-in-github",
        "colab_type": "text"
      },
      "source": [
        "<a href=\"https://colab.research.google.com/github/gnille01/DA642E-AI-and-Data-Management-for-IOT/blob/main/AIDM_Lab1.ipynb\" target=\"_parent\"><img src=\"https://colab.research.google.com/assets/colab-badge.svg\" alt=\"Open In Colab\"/></a>"
      ]
    },
    {
      "cell_type": "markdown",
      "source": [
        "AI and Data Management\n",
        "LAB 1\n",
        "**Section 1**"
      ],
      "metadata": {
        "id": "plBkuonTek2G"
      }
    },
    {
      "cell_type": "code",
      "source": [
        "!python --version"
      ],
      "metadata": {
        "colab": {
          "base_uri": "https://localhost:8080/"
        },
        "id": "OwDKWQKWeYoO",
        "outputId": "9495b59d-ccc7-45aa-ebc2-2b8dea138582"
      },
      "execution_count": null,
      "outputs": [
        {
          "output_type": "stream",
          "name": "stdout",
          "text": [
            "Python 3.11.11\n"
          ]
        }
      ]
    },
    {
      "cell_type": "markdown",
      "source": [
        "AI and Data Management\n",
        "LAB 1\n",
        "**Section 2**"
      ],
      "metadata": {
        "id": "Ei-2AqNtetet"
      }
    },
    {
      "cell_type": "markdown",
      "source": [
        "**A.0.1: Cinnamon buns**"
      ],
      "metadata": {
        "id": "4h7za7kCeKvr"
      }
    },
    {
      "cell_type": "code",
      "execution_count": null,
      "metadata": {
        "id": "rF48ADg8d-oi",
        "colab": {
          "base_uri": "https://localhost:8080/"
        },
        "outputId": "c79a9b1c-9b45-4953-815a-5512aeb2f6d7"
      },
      "outputs": [
        {
          "output_type": "stream",
          "name": "stdout",
          "text": [
            "How many old kanelbulle? 5\n",
            "5 kanelbuller:  175.0 sek\n",
            "Discount:  70.0 sek\n",
            "Total:  105.0 sek\n"
          ]
        }
      ],
      "source": [
        "# Price variables of fresh and old kanelbulle\n",
        "kanelbulle = 35.00\n",
        "old_kanelbulle = kanelbulle * 0.60\n",
        "tot_old_kanelbulle = int(input(\"How many old kanelbulle? \"))\n",
        "price_old_kanelbulle = old_kanelbulle * tot_old_kanelbulle\n",
        "undiscounted_price = price_old_kanelbulle / 0.60\n",
        "print(tot_old_kanelbulle, \"kanelbuller: \" ,undiscounted_price, \"sek\")\n",
        "print(\"Discount: \", undiscounted_price - price_old_kanelbulle, \"sek\")\n",
        "print(\"Total: \", price_old_kanelbulle, \"sek\")\n"
      ]
    },
    {
      "cell_type": "markdown",
      "source": [
        "**A.0.2: Dog Years!**"
      ],
      "metadata": {
        "id": "XkTBeSmT0Ian"
      }
    },
    {
      "cell_type": "code",
      "source": [
        "# Variables\n",
        "years = int(input(\"Human age: \")) # Input variable for dogs age in human years\n",
        "if years < 0: # if years is negative, redo input\n",
        "  print(\"Invalid age\")\n",
        "  years = int(input(\"Human age: \"))\n",
        "dog_age = 0 # Set dog year to zero"
      ],
      "metadata": {
        "colab": {
          "base_uri": "https://localhost:8080/"
        },
        "id": "WwPAtB8e16sp",
        "outputId": "0b1babad-cb80-4cb3-b07c-5f0c29c82465"
      },
      "execution_count": null,
      "outputs": [
        {
          "name": "stdout",
          "output_type": "stream",
          "text": [
            "Human age: 20\n"
          ]
        }
      ]
    },
    {
      "cell_type": "code",
      "source": [
        "\"\"\"\n",
        "10,5 dog years for the first two human years\n",
        "4 dog years for each human year after that\n",
        "\n",
        "10,5 * 2 + 4 * (years - 2)\n",
        "\"\"\"\n",
        "# for loop calculating dog age for every human year\n",
        "for i in range(0, years):\n",
        "  if i <= 1:\n",
        "    dog_age += 10.5   # adds 10.5 at integers 0 and 1 (year 1 and 2)\n",
        "  else:\n",
        "    dog_age += 4    # each year after 2 (int 1) adds 4\n",
        "print(dog_age)\n"
      ],
      "metadata": {
        "colab": {
          "base_uri": "https://localhost:8080/"
        },
        "collapsed": true,
        "id": "dpIz0SnEffa6",
        "outputId": "76f559b7-5bd5-4bc7-831c-fae852625161"
      },
      "execution_count": null,
      "outputs": [
        {
          "output_type": "stream",
          "name": "stdout",
          "text": [
            "93.0\n"
          ]
        }
      ]
    },
    {
      "cell_type": "markdown",
      "source": [
        "**A.0.4. Is it a prime number?**"
      ],
      "metadata": {
        "id": "zd-DWL845dCO"
      }
    },
    {
      "cell_type": "code",
      "source": [
        "def primenumber(num):\n",
        "  if num > 1:\n",
        "    for i in range(2, num):\n",
        "      if (num % i) == 0:  # modulo operator (%) to find remainder of num/i\n",
        "        print(num, \"is not a prime number\") # if num%i is 0\n",
        "        break\n",
        "    else:\n",
        "      print(num, \"is a prime number\") # if num%i is not 0"
      ],
      "metadata": {
        "id": "mhUTUkbu6Frd"
      },
      "execution_count": null,
      "outputs": []
    },
    {
      "cell_type": "code",
      "source": [
        "input_num = int(input(\"Enter a number: \"))\n",
        "primenumber(input_num)"
      ],
      "metadata": {
        "colab": {
          "base_uri": "https://localhost:8080/"
        },
        "id": "nUs7wPtT6exo",
        "outputId": "f7bc339b-dd55-4897-b318-d3f9c95263ac"
      },
      "execution_count": null,
      "outputs": [
        {
          "output_type": "stream",
          "name": "stdout",
          "text": [
            "Enter a number: 73\n",
            "73 is a prime number\n"
          ]
        }
      ]
    },
    {
      "cell_type": "markdown",
      "source": [
        "**A.0.5. What is the next prime?**"
      ],
      "metadata": {
        "id": "kNATCXDy9R_Z"
      }
    },
    {
      "cell_type": "code",
      "source": [
        "def nextPrime(n):\n",
        "  # clone n\n",
        "  m = n\n",
        "  # add 1 to m\n",
        "  m += 1\n",
        "  # check if m is prime\n",
        "  if m > 1:\n",
        "    for i in range(2, m):\n",
        "      if (m % i) == 0:  # modulo operator (%) to find remainder of m/i\n",
        "        # print(\"Integer \", m, \"is not a prime number\") # if m%i is 0\n",
        "        m += 1 # If m is not a prime then add 1\n",
        "    else:\n",
        "      print(\"Closest prime to n is \", m) # if m%i is not 0"
      ],
      "metadata": {
        "id": "CL6v9Shp9Rer"
      },
      "execution_count": null,
      "outputs": []
    },
    {
      "cell_type": "code",
      "source": [
        "input_n = int(input(\"Enter a number \"))\n",
        "nextPrime(input_n)"
      ],
      "metadata": {
        "colab": {
          "base_uri": "https://localhost:8080/"
        },
        "id": "be_i0EvOAWtm",
        "outputId": "0f4d6298-8482-4ad2-88a7-f6ac057099c9"
      },
      "execution_count": null,
      "outputs": [
        {
          "output_type": "stream",
          "name": "stdout",
          "text": [
            "Enter a number 13\n",
            "Closest prime to n is  17\n"
          ]
        }
      ]
    },
    {
      "cell_type": "markdown",
      "source": [
        "**A.0.3: Coin Flip**"
      ],
      "metadata": {
        "id": "6Pcvut7XA9ea"
      }
    },
    {
      "cell_type": "code",
      "source": [
        "# import random\n",
        "import random as r"
      ],
      "metadata": {
        "collapsed": true,
        "id": "EHvttmv7BABO"
      },
      "execution_count": null,
      "outputs": []
    },
    {
      "cell_type": "code",
      "source": [
        "list_of_results = []  # List to store result of each coinflip\n",
        "counter = 0   # counting amoutn of coinflips\n",
        "while True:   # Will run until break\n",
        "  flip = r.choice(['Heads', 'Tails']) # Generates Heads or Tails\n",
        "  list_of_results.append(flip)    # Append result fo coinflip to list\n",
        "  counter += 1    # adds 1 to counter\n",
        "  if counter >= 3:    # when flipped 3 or more times\n",
        "    if list_of_results[-1] == list_of_results[-2] == list_of_results[-3]: # Checks three last results\n",
        "      print(list_of_results)\n",
        "      print(list_of_results[-1], \": Three in a row\")\n",
        "      print(counter, \"Coinflips\")\n",
        "      break\n"
      ],
      "metadata": {
        "id": "E_3QoPRRNL7Z",
        "colab": {
          "base_uri": "https://localhost:8080/"
        },
        "outputId": "68a445ca-09e2-4e00-882e-46d2fd0adca7"
      },
      "execution_count": null,
      "outputs": [
        {
          "output_type": "stream",
          "name": "stdout",
          "text": [
            "['Tails', 'Tails', 'Heads', 'Heads', 'Heads']\n",
            "Heads : Three in a row\n",
            "5 Coinflips\n"
          ]
        }
      ]
    },
    {
      "cell_type": "markdown",
      "source": [
        "**A.0.6. Shuffle the cards!**"
      ],
      "metadata": {
        "id": "Mflv5JRFTlit"
      }
    },
    {
      "cell_type": "code",
      "source": [
        "## import random as r"
      ],
      "metadata": {
        "id": "JvWCSi04U1b-"
      },
      "execution_count": null,
      "outputs": []
    },
    {
      "cell_type": "code",
      "source": [
        "# Function createDeck\n",
        "## createDeck creates a deck of cards, storing abbreviations for 52 cards\n",
        "def createDeck():\n",
        "  deck = []\n",
        "  for suit in ['h', 'd', 's', 'c']: # Heart, diamond, spade, clubs\n",
        "    for rank in ['A', '2', '3', '4', '5', '6', '7', '8', '9', '10', 'J', 'Q', 'K']:\n",
        "      deck.append(rank + suit)\n",
        "  return deck"
      ],
      "metadata": {
        "id": "DzfZqSIcR_g7"
      },
      "execution_count": null,
      "outputs": []
    },
    {
      "cell_type": "code",
      "source": [
        "# Call createDeck\n",
        "cardDeck = createDeck()\n",
        "cardDeck\n",
        "#print(cardDeck)"
      ],
      "metadata": {
        "colab": {
          "base_uri": "https://localhost:8080/"
        },
        "collapsed": true,
        "id": "nKViTHnqVXbs",
        "outputId": "123ba56a-ef75-4971-924e-7878551d3716"
      },
      "execution_count": null,
      "outputs": [
        {
          "output_type": "execute_result",
          "data": {
            "text/plain": [
              "['Ah',\n",
              " '2h',\n",
              " '3h',\n",
              " '4h',\n",
              " '5h',\n",
              " '6h',\n",
              " '7h',\n",
              " '8h',\n",
              " '9h',\n",
              " '10h',\n",
              " 'Jh',\n",
              " 'Qh',\n",
              " 'Kh',\n",
              " 'Ad',\n",
              " '2d',\n",
              " '3d',\n",
              " '4d',\n",
              " '5d',\n",
              " '6d',\n",
              " '7d',\n",
              " '8d',\n",
              " '9d',\n",
              " '10d',\n",
              " 'Jd',\n",
              " 'Qd',\n",
              " 'Kd',\n",
              " 'As',\n",
              " '2s',\n",
              " '3s',\n",
              " '4s',\n",
              " '5s',\n",
              " '6s',\n",
              " '7s',\n",
              " '8s',\n",
              " '9s',\n",
              " '10s',\n",
              " 'Js',\n",
              " 'Qs',\n",
              " 'Ks',\n",
              " 'Ac',\n",
              " '2c',\n",
              " '3c',\n",
              " '4c',\n",
              " '5c',\n",
              " '6c',\n",
              " '7c',\n",
              " '8c',\n",
              " '9c',\n",
              " '10c',\n",
              " 'Jc',\n",
              " 'Qc',\n",
              " 'Kc']"
            ]
          },
          "metadata": {},
          "execution_count": 3
        }
      ]
    },
    {
      "cell_type": "code",
      "source": [
        "def shuffle():\n",
        "  print(\"Original deck: \")\n",
        "  for i in cardDeck:    ## Print each card in seperate lines\n",
        "    print(i)\n",
        "  print(\"\")\n",
        "  r.shuffle(cardDeck)   ## Shuffle cards\n",
        "  print(\"Shuffled deck: \")\n",
        "  for i in cardDeck:    ## Print shuffled deck\n",
        "    print(i)"
      ],
      "metadata": {
        "id": "lzS6oFwTV6LX"
      },
      "execution_count": null,
      "outputs": []
    },
    {
      "cell_type": "code",
      "source": [
        "shuffle() # Call shuffle\n"
      ],
      "metadata": {
        "colab": {
          "base_uri": "https://localhost:8080/"
        },
        "collapsed": true,
        "id": "gYsN32_sW0MW",
        "outputId": "da556e56-dd80-438b-8e6f-45ee3ab0f8f7"
      },
      "execution_count": null,
      "outputs": [
        {
          "output_type": "stream",
          "name": "stdout",
          "text": [
            "Original deck: \n",
            "Ah\n",
            "2h\n",
            "3h\n",
            "4h\n",
            "5h\n",
            "6h\n",
            "7h\n",
            "8h\n",
            "9h\n",
            "10h\n",
            "Jh\n",
            "Qh\n",
            "Kh\n",
            "Ad\n",
            "2d\n",
            "3d\n",
            "4d\n",
            "5d\n",
            "6d\n",
            "7d\n",
            "8d\n",
            "9d\n",
            "10d\n",
            "Jd\n",
            "Qd\n",
            "Kd\n",
            "As\n",
            "2s\n",
            "3s\n",
            "4s\n",
            "5s\n",
            "6s\n",
            "7s\n",
            "8s\n",
            "9s\n",
            "10s\n",
            "Js\n",
            "Qs\n",
            "Ks\n",
            "Ac\n",
            "2c\n",
            "3c\n",
            "4c\n",
            "5c\n",
            "6c\n",
            "7c\n",
            "8c\n",
            "9c\n",
            "10c\n",
            "Jc\n",
            "Qc\n",
            "Kc\n",
            "\n",
            "Shuffled deck: \n",
            "As\n",
            "2h\n",
            "10h\n",
            "Qh\n",
            "Jc\n",
            "Qd\n",
            "3c\n",
            "9d\n",
            "2d\n",
            "9c\n",
            "Jd\n",
            "10d\n",
            "8s\n",
            "Kc\n",
            "4h\n",
            "3d\n",
            "9s\n",
            "7h\n",
            "2s\n",
            "10c\n",
            "7s\n",
            "6s\n",
            "3h\n",
            "Ks\n",
            "9h\n",
            "6d\n",
            "Kd\n",
            "8c\n",
            "10s\n",
            "Ah\n",
            "6h\n",
            "Js\n",
            "5h\n",
            "8d\n",
            "3s\n",
            "2c\n",
            "5c\n",
            "Jh\n",
            "8h\n",
            "4d\n",
            "Qc\n",
            "Ac\n",
            "7c\n",
            "7d\n",
            "5d\n",
            "4s\n",
            "4c\n",
            "Kh\n",
            "6c\n",
            "Qs\n",
            "Ad\n",
            "5s\n"
          ]
        }
      ]
    },
    {
      "cell_type": "markdown",
      "source": [
        "**A.0.7: Deal the cards**"
      ],
      "metadata": {
        "id": "9sB0bCsuYyei"
      }
    },
    {
      "cell_type": "code",
      "source": [
        "## import random as r"
      ],
      "metadata": {
        "id": "AG4zzJbsY23-"
      },
      "execution_count": null,
      "outputs": []
    },
    {
      "cell_type": "code",
      "source": [
        "# Call createDeck\n",
        "cardDeck = createDeck()\n",
        "#cardDeck"
      ],
      "metadata": {
        "collapsed": true,
        "id": "CjCHK03qh6v-"
      },
      "execution_count": null,
      "outputs": []
    },
    {
      "cell_type": "code",
      "source": [
        "# Function to deal cards based on amount of players, cards per hand, deck\n",
        "def deal(players, cards, deck):\n",
        "    r.shuffle(deck)  # Shuffle deck\n",
        "\n",
        "    hands = [[] for _ in range(players)]  # Initialize empty hands for each player\n",
        "\n",
        "    for _ in range(cards):  # Iterate for the number of cards per hand\n",
        "        for i in range(players):  # Iterate through each player\n",
        "            if deck:  # Check if there are cards left in the deck\n",
        "                hands[i].append(deck.pop())  # Deal one card to the current player\n",
        "\n",
        "    for hand in hands:\n",
        "        print(hand)\n",
        "\n",
        "    return hands"
      ],
      "metadata": {
        "id": "N-yv-4CTZHE2"
      },
      "execution_count": null,
      "outputs": []
    },
    {
      "cell_type": "code",
      "source": [
        "# Call function. 5 players, 2 cards each. Poker\n",
        "deal(5, 2, cardDeck)"
      ],
      "metadata": {
        "colab": {
          "base_uri": "https://localhost:8080/"
        },
        "id": "yF8qPaf3Zokn",
        "outputId": "81c9045d-fc46-4351-dcc9-90569f83d559",
        "collapsed": true
      },
      "execution_count": null,
      "outputs": [
        {
          "output_type": "stream",
          "name": "stdout",
          "text": [
            "['3h', '10h']\n",
            "['2h', 'Js']\n",
            "['9d', 'As']\n",
            "['2c', 'Jc']\n",
            "['Jd', '7s']\n"
          ]
        },
        {
          "output_type": "execute_result",
          "data": {
            "text/plain": [
              "[['3h', '10h'], ['2h', 'Js'], ['9d', 'As'], ['2c', 'Jc'], ['Jd', '7s']]"
            ]
          },
          "metadata": {},
          "execution_count": 44
        }
      ]
    },
    {
      "cell_type": "markdown",
      "source": [
        "Main class to create, shuffle, deal"
      ],
      "metadata": {
        "id": "f2YtpPAescW3"
      }
    },
    {
      "cell_type": "code",
      "source": [
        "class cards():\n",
        "    cards=[]\n",
        "    def create (self):\n",
        "        self.cards=[]\n",
        "        #Your program goes here\n",
        "        #Construct the deck here\n",
        "        deck = []\n",
        "        for suit in ['h', 'd', 's', 'c']: # Heart, diamond, spade, clubs\n",
        "          for rank in ['A', '2', '3', '4', '5', '6', '7', '8', '9', '10', 'J', 'Q', 'K']:\n",
        "            deck.append(rank + suit)\n",
        "        self.cards = deck\n",
        "        return deck\n",
        "\n",
        "\n",
        "    def shuffle (self):\n",
        "        #Your program goes here\n",
        "        #use constructed card deck by using \"self.cards\" and shuffle them\n",
        "        print(\"Original deck: \")\n",
        "        for i in cardDeck:    ## Print each card in seperate lines\n",
        "          print(i)\n",
        "        print(\"\")\n",
        "        r.shuffle(cardDeck)   ## Shuffle cards\n",
        "        print(\"Shuffled deck: \")\n",
        "        for i in cardDeck:    ## Print shuffled deck\n",
        "          print(i)\n",
        "\n",
        "    def deal (self,players,cards):\n",
        "        #Your program goes here\n",
        "        #use constructed card deck by using \"self.cards\" and deal based on the number of hands, \"hands\", and number of cards in each hand, \"num-cards\", that are recevied from the user\n",
        "\n",
        "        r.shuffle(self.cards)  # Shuffle deck\n",
        "\n",
        "        hands = [[] for _ in range(players)]  # Initialize empty hands for each player\n",
        "\n",
        "        for _ in range(cards):  # Iterate for the number of cards per hand\n",
        "            for i in range(players):  # Iterate through each player\n",
        "                if self.cards:  # Check if there are cards left in the deck\n",
        "                    hands[i].append(self.cards.pop())  # Deal one card to the current player\n",
        "\n",
        "        print(\"\")\n",
        "        print(\"Cards dealt: \")\n",
        "        handcount = 1\n",
        "        for hand in hands:\n",
        "            print(\"Hand \", handcount, \": \")\n",
        "            handcount += 1\n",
        "            print(hand)\n",
        "\n",
        "        print(\"All hands\")\n",
        "        return hands\n",
        "\n",
        "#initialte your programs with this functions\n",
        "card_01 = cards()\n",
        "card_01.create()\n",
        "card_01.shuffle()\n",
        "card_01.deal(5,2) #Change X and Y"
      ],
      "metadata": {
        "colab": {
          "base_uri": "https://localhost:8080/"
        },
        "collapsed": true,
        "id": "PC24nGACsgMH",
        "outputId": "a42009e5-32ee-41b2-dc4c-0144cd2fbc21"
      },
      "execution_count": null,
      "outputs": [
        {
          "output_type": "stream",
          "name": "stdout",
          "text": [
            "Original deck: \n",
            "5h\n",
            "3d\n",
            "9c\n",
            "2d\n",
            "5s\n",
            "3c\n",
            "5d\n",
            "6d\n",
            "Ks\n",
            "8h\n",
            "7h\n",
            "8s\n",
            "6c\n",
            "9s\n",
            "Kc\n",
            "Ac\n",
            "Ah\n",
            "Ad\n",
            "Qc\n",
            "Qs\n",
            "2s\n",
            "10d\n",
            "Qh\n",
            "9h\n",
            "10s\n",
            "5c\n",
            "7c\n",
            "Kh\n",
            "6h\n",
            "4h\n",
            "6s\n",
            "Qd\n",
            "\n",
            "Shuffled deck: \n",
            "2d\n",
            "Ah\n",
            "4h\n",
            "Ac\n",
            "Kc\n",
            "9s\n",
            "9c\n",
            "5d\n",
            "10d\n",
            "5s\n",
            "2s\n",
            "9h\n",
            "6d\n",
            "Qs\n",
            "8s\n",
            "Ad\n",
            "Qc\n",
            "Qd\n",
            "Ks\n",
            "6c\n",
            "5c\n",
            "10s\n",
            "Qh\n",
            "Kh\n",
            "8h\n",
            "7c\n",
            "3d\n",
            "6s\n",
            "6h\n",
            "5h\n",
            "3c\n",
            "7h\n",
            "\n",
            "Cards dealt: \n",
            "Hand  1 : \n",
            "['7d', '3d']\n",
            "Hand  2 : \n",
            "['4c', '4d']\n",
            "Hand  3 : \n",
            "['Qd', 'Qh']\n",
            "Hand  4 : \n",
            "['9d', 'Qs']\n",
            "Hand  5 : \n",
            "['6c', '10s']\n",
            "All hands\n"
          ]
        },
        {
          "output_type": "execute_result",
          "data": {
            "text/plain": [
              "[['7d', '3d'], ['4c', '4d'], ['Qd', 'Qh'], ['9d', 'Qs'], ['6c', '10s']]"
            ]
          },
          "metadata": {},
          "execution_count": 54
        }
      ]
    }
  ]
}